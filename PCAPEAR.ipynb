{
  "cells": [
    {
      "cell_type": "code",
      "execution_count": 31,
      "metadata": {
        "id": "Wsd3YvYPSCoq"
      },
      "outputs": [],
      "source": [
        "import numpy as np\n",
        "import pandas as pd\n",
        "import re\n",
        "import matplotlib.pyplot as plt\n",
        "\n",
        "symbolic = '[<>?,%()]|nan|NAN|NaN|na|NA'"
      ]
    },
    {
      "cell_type": "code",
      "execution_count": 32,
      "metadata": {
        "id": "QUkZ_HkBS4AL"
      },
      "outputs": [],
      "source": [
        "def pca(data, n_components, threshold=0.95 ):\n",
        "    # Step 1: Standardize the data (zero mean and unit variance)\n",
        "    mean = np.mean(data, axis=0)\n",
        "    std = np.std(data, axis=0)\n",
        "    standardized_data = (data - mean) / std\n",
        "\n",
        "    # Step 2: Compute the covariance matrix\n",
        "    covariance_matrix = np.cov(standardized_data, rowvar=False)\n",
        "\n",
        "    # Step 3: Compute eigenvalues and eigenvectors\n",
        "    eigenvalues, eigenvectors = np.linalg.eigh(covariance_matrix)\n",
        "\n",
        "    # Step 4: Sort eigenvalues and eigenvectors in descending order\n",
        "    sorted_indices = np.argsort(eigenvalues)[::-1]\n",
        "    eigenvalues = eigenvalues[sorted_indices]\n",
        "    eigenvectors = eigenvectors[:, sorted_indices]\n",
        "\n",
        "    total_variance = np.sum(eigenvalues)\n",
        "    explained_variance_ratio = eigenvalues / total_variance\n",
        "    cumulative_explained_variance_ratio = np.cumsum(explained_variance_ratio)\n",
        "\n",
        "    # Step 5: Select the top n_components eigenvectors\n",
        "    top_n = 0\n",
        "    for index, sum_variance in enumerate(cumulative_explained_variance_ratio):\n",
        "        # print(index, sum_variance)\n",
        "        top_n = index + 1\n",
        "        if sum_variance >= 0.95:\n",
        "            break\n",
        "    print(f\"top_n components is {top_n}\")\n",
        "    top_components = eigenvectors[:, :top_n]\n",
        "\n",
        "    # Step 6: Project the data onto the principal components\n",
        "    projected_data = np.dot(standardized_data, top_components)\n",
        "\n",
        "    return projected_data, eigenvalues[:n_components], top_components, explained_variance_ratio, cumulative_explained_variance_ratio\n"
      ]
    },
    {
      "cell_type": "code",
      "execution_count": 33,
      "metadata": {
        "id": "7obQU1lNTAnZ"
      },
      "outputs": [],
      "source": [
        "def preprocessing(data):\n",
        "    columns = data.columns\n",
        "    for column in columns:\n",
        "        new_values = []\n",
        "        for cell in data[column]:\n",
        "            new_value = str(cell)\n",
        "            new_value = re.sub(symbolic, '', new_value)       # del symbolic\n",
        "            new_value = new_value.strip()                     # del space\n",
        "            if new_value == '':\n",
        "                new_value = None\n",
        "            elif new_value.find(' kha') >= 0:\n",
        "                new_value = new_value.replace(' kha', '')\n",
        "                new_value = float(new_value) * 1000.0\n",
        "            elif new_value.find(' Mha') >= 0:\n",
        "                new_value = new_value.replace(' Mha', '')\n",
        "                new_value = float(new_value) * 1000000.0\n",
        "            elif new_value.find(' ha') >= 0:\n",
        "                new_value = new_value.replace(' ha', '')\n",
        "                new_value = float(new_value)\n",
        "            else:\n",
        "                # print(column, new_value)\n",
        "                new_value = float(new_value)\n",
        "            # print(new_value)\n",
        "            new_values.append(new_value)\n",
        "        data[column] = new_values\n",
        "        data[column] = data[column].replace(to_replace='NAN', value='0')   # NAN(string)\n",
        "        data[column] = data[column].astype(str).astype(float)\n",
        "\n",
        "    data = np.nan_to_num(data, nan=0, posinf=0, neginf=0)                  # NAN(Numpy)\n",
        "    return data"
      ]
    },
    {
      "cell_type": "code",
      "execution_count": 34,
      "metadata": {
        "id": "e5a5OpkMTHty"
      },
      "outputs": [],
      "source": [
        "file_path = 'C:\\\\Users\\\\HP\\\\Desktop\\\\MLIS PROJECT\\\\Butterfly_Data_extended (1).xlsx'\n",
        "\n",
        "numerical_columns = [\n",
        "        'Number of species',\n",
        "        'area',\n",
        "        'latitude',\n",
        "        'Amount of forest lost 2023',\n",
        "        '% Of landmass used for agriculture',\n",
        "        'Metres from Sea Level',\n",
        "        'plant species',\n",
        "        'the average Annual Relative Humidity',\n",
        "        'Agricultural land percentage (0-100%)',\n",
        "        'forest area %'\n",
        "    ]"
      ]
    },
    {
      "cell_type": "code",
      "execution_count": 35,
      "metadata": {
        "colab": {
          "base_uri": "https://localhost:8080/"
        },
        "id": "VK4Mm1rBTToO",
        "outputId": "69c45ca3-a448-4ad4-8c8b-7ba8b7f13b9e"
      },
      "outputs": [
        {
          "name": "stdout",
          "output_type": "stream",
          "text": [
            "top_n components is 7\n",
            "Projected Data:\n",
            "[[ 5.36293192e-01 -7.96854958e-01 -1.45304526e-01  3.60869757e-01\n",
            "  -5.87379591e-01 -1.61888505e-01  8.59712826e-01]\n",
            " [ 1.42021144e+00  2.69493151e-01  3.08393688e-02  1.66399449e-01\n",
            "   2.88311532e-01 -2.22680385e-01 -2.90419283e-02]\n",
            " [ 8.18414258e-01  2.87691156e-02  4.79574382e-03  3.10568552e-01\n",
            "  -2.90594317e-01  1.16691727e-01  2.21745951e-01]\n",
            " [ 6.99138225e-01 -1.36805006e+00  6.66450916e-01 -3.07065549e-01\n",
            "   1.37332528e+00 -2.23027960e-01 -5.46619721e-02]\n",
            " [ 1.20176530e+00  3.96459838e-01 -1.87758159e-01  3.80543888e-01\n",
            "  -3.37987634e-01 -4.64890112e-02  2.09581304e-01]\n",
            " [ 1.95209038e+00  1.39967532e+00 -4.42311154e-02  2.90853610e-01\n",
            "   1.13760104e-01 -3.20720493e-01 -3.82008661e-01]\n",
            " [ 1.17911862e+00 -1.23403646e+00 -9.51799037e-01  2.46174558e-01\n",
            "   2.18151211e-01  3.95605837e-01  1.09071107e+00]\n",
            " [ 8.41310860e-01 -4.05309876e+00 -4.29513206e+00 -3.04444031e+00\n",
            "  -2.17820678e+00 -7.34765420e-01 -2.23888417e+00]\n",
            " [ 3.88214678e-01 -5.25882006e-01 -2.01119847e-01 -2.10165473e-01\n",
            "   3.52508208e-01 -3.06347708e-01  7.47031646e-01]\n",
            " [ 9.07382206e-01  8.75126349e-01 -5.46620252e-01  1.86151374e-01\n",
            "  -1.11225576e-01 -1.42964315e-01  2.16361741e-01]\n",
            " [ 6.53925741e-01  7.40474123e-01  1.30517356e-01  3.58512618e-01\n",
            "  -3.22953903e-01  1.53673437e-02 -2.17976920e-01]\n",
            " [ 1.36543692e+00  9.73304035e-01 -2.37430795e-03  2.86092231e-01\n",
            "   2.30970190e-02 -5.07950819e-02 -2.88221866e-01]\n",
            " [ 1.85466248e+00  1.52541118e+00  1.03392673e-01  2.35601812e-01\n",
            "   1.82198834e-01 -5.25130736e-01 -5.06827437e-01]\n",
            " [ 4.76691803e-01  2.35587733e-01 -2.10005096e-02  2.00742711e-01\n",
            "  -2.41232395e-01 -4.51408045e-02  2.00460300e-01]\n",
            " [ 1.16264718e+00 -8.36969628e-01 -1.00589695e+00  3.68649777e-01\n",
            "  -1.92602213e-02  4.70560324e-01  9.90968968e-01]\n",
            " [ 1.04610173e+00  4.60783078e-01 -7.09809710e-01  2.73016422e-01\n",
            "   1.51019916e-01 -1.18707621e-01  2.97555132e-01]\n",
            " [ 1.40621580e+00  4.57265307e-01 -2.82804290e-01  4.64032148e-01\n",
            "  -3.36509052e-01  6.04180174e-02  1.94874641e-01]\n",
            " [ 1.32006459e+00  2.83097417e-01  9.76136399e-01 -1.82790849e-01\n",
            "   1.20141563e+00 -4.47954580e-01 -9.28237666e-01]\n",
            " [ 1.77704558e+00  9.73384321e-01  2.07500435e-01  1.23498394e-01\n",
            "   4.67567421e-01 -4.11886598e-01 -4.46764191e-01]\n",
            " [ 1.34832199e+00  7.58828870e-01 -3.00696894e-01  2.07101692e-01\n",
            "  -9.96107168e-02  4.72036982e-02  9.17368177e-02]\n",
            " [ 7.23970666e-01 -9.93728016e-02 -7.68337212e-02  3.08484965e-01\n",
            "  -9.72860516e-02  1.81224663e-01  2.02600266e-01]\n",
            " [ 1.04068593e+00  8.33081927e-01  1.65112568e-02  2.97102571e-01\n",
            "  -3.10938857e-01 -7.07775823e-02 -5.30269003e-02]\n",
            " [ 9.45817108e-01 -6.73490335e-02 -2.67836361e-01  3.73472417e-01\n",
            "  -3.07375128e-01  8.98303505e-02  3.98297492e-01]\n",
            " [ 5.97989299e-01 -9.07668296e-01 -7.61196517e-01  5.11416555e-01\n",
            "  -5.77874044e-01  5.91140288e-01  1.00485644e+00]\n",
            " [ 3.20964054e-01  2.01521373e-01 -8.38427512e-02  1.62958809e-01\n",
            "  -3.87889503e-01 -1.27021513e-01  4.49510115e-01]\n",
            " [ 4.48729959e-01 -2.23716213e+00 -1.37568753e+00  1.03519075e-01\n",
            "   1.55790569e-01  3.59417367e-01  1.93140609e+00]\n",
            " [ 1.81467297e+00  1.88439107e+00  6.83366555e-02  2.48841237e-01\n",
            "  -7.74994005e-02 -4.21336870e-01 -5.17181519e-01]\n",
            " [ 9.62923951e-02 -1.65494681e+00  1.33686728e+00 -7.96123199e-01\n",
            "   2.23081021e+00 -5.27522485e-01 -5.32360576e-01]\n",
            " [ 5.96080572e-01  1.79866882e+00  1.64319786e-01  4.50927675e-01\n",
            "  -1.93515696e-01  4.20118181e-01 -9.64717476e-01]\n",
            " [-1.23202940e+00 -2.02506891e+00  2.34719726e-01 -3.53605249e-01\n",
            "   1.06137330e+00  9.33296370e-01  2.09707315e-01]\n",
            " [-2.09174819e+00 -2.49980569e+00  4.34551624e+00 -6.12562748e-02\n",
            "  -1.69367510e+00 -2.81629001e+00  8.89221762e-02]\n",
            " [-1.24146669e+00  8.59393993e-01  3.04003213e-02  6.36658812e-01\n",
            "  -4.68427252e-01 -6.69062742e-01 -3.02680911e-01]\n",
            " [-5.70903589e+00  2.12643587e-01 -3.99732335e+00  2.82717200e+00\n",
            "   1.93920210e+00 -1.95866706e+00 -3.43810877e-01]\n",
            " [-5.64718846e-01 -2.19774100e+00  7.67387609e-01 -3.08338445e-01\n",
            "   1.41423724e+00  6.72212514e-01 -1.44830860e-01]\n",
            " [-8.18152627e-01 -1.27364706e+00  1.48402905e+00 -4.11785362e-01\n",
            "   1.24991783e+00  1.00287835e+00 -1.00843011e+00]\n",
            " [-3.56480975e-01  2.15570445e-01  5.09315733e-01  2.27185276e-01\n",
            "   2.12765859e-01  6.53832961e-01 -6.78546146e-01]\n",
            " [-2.15816496e+00  3.28135299e+00 -1.80087051e-01 -4.35555271e+00\n",
            "   8.11599208e-01 -6.16650440e-01  1.89967050e+00]\n",
            " [-1.78632001e+00 -7.79567354e-01  2.57619821e-01  3.25296633e-01\n",
            "  -1.24786422e+00  1.06866689e+00  5.40248351e-01]\n",
            " [-3.25307576e+00  4.22057878e-01  2.73084301e-01  3.07908393e-01\n",
            "  -1.54640786e+00  1.68784451e+00 -1.58299804e-01]\n",
            " [-8.53819320e-01  3.05539982e+00  5.63061074e-01 -1.03390536e-01\n",
            "  -1.19451635e+00 -3.49486441e-01 -6.87894678e-01]\n",
            " [-3.01124777e+00 -9.10569810e-01  8.43842956e-01  6.04314878e-02\n",
            "  -4.50093469e-01  1.70646413e+00 -4.29679091e-01]\n",
            " [-3.30715515e+00  3.32215477e+00 -6.06962730e-01 -1.64598166e+00\n",
            "   2.56366771e-01  2.36321138e-01 -1.52946718e-01]\n",
            " [-1.41216114e+00 -1.11711598e+00  1.29856033e+00  5.76775591e-01\n",
            "  -1.90823236e+00 -9.91688570e-01  7.29462222e-01]\n",
            " [-1.10749796e+00  8.54640568e-01  6.37201312e-01  4.16523765e-01\n",
            "  -4.79815903e-01  1.56059128e+00 -1.08314732e+00]\n",
            " [-3.71812265e-02 -1.73363032e+00  1.09391133e+00 -5.12988636e-01\n",
            "   1.76295313e+00  3.73169934e-02 -4.25243575e-01]]\n",
            "\n",
            "Explained Variance:\n",
            "\n",
            "Number of Selected Principal Components: 7\n",
            "\n"
          ]
        },
        {
          "name": "stderr",
          "output_type": "stream",
          "text": [
            "C:\\Users\\HP\\AppData\\Local\\Temp\\ipykernel_16064\\1809257685.py:25: SettingWithCopyWarning: \n",
            "A value is trying to be set on a copy of a slice from a DataFrame.\n",
            "Try using .loc[row_indexer,col_indexer] = value instead\n",
            "\n",
            "See the caveats in the documentation: https://pandas.pydata.org/pandas-docs/stable/user_guide/indexing.html#returning-a-view-versus-a-copy\n",
            "  data[column] = new_values\n",
            "C:\\Users\\HP\\AppData\\Local\\Temp\\ipykernel_16064\\1809257685.py:26: SettingWithCopyWarning: \n",
            "A value is trying to be set on a copy of a slice from a DataFrame.\n",
            "Try using .loc[row_indexer,col_indexer] = value instead\n",
            "\n",
            "See the caveats in the documentation: https://pandas.pydata.org/pandas-docs/stable/user_guide/indexing.html#returning-a-view-versus-a-copy\n",
            "  data[column] = data[column].replace(to_replace='NAN', value='0')   # NAN(string)\n",
            "C:\\Users\\HP\\AppData\\Local\\Temp\\ipykernel_16064\\1809257685.py:27: SettingWithCopyWarning: \n",
            "A value is trying to be set on a copy of a slice from a DataFrame.\n",
            "Try using .loc[row_indexer,col_indexer] = value instead\n",
            "\n",
            "See the caveats in the documentation: https://pandas.pydata.org/pandas-docs/stable/user_guide/indexing.html#returning-a-view-versus-a-copy\n",
            "  data[column] = data[column].astype(str).astype(float)\n"
          ]
        }
      ],
      "source": [
        "data = pd.read_excel(file_path)\n",
        "new_data = data[numerical_columns]\n",
        "data_array = preprocessing(new_data)\n",
        "\n",
        "\n",
        "# Perform PCA\n",
        "max_num_features = min(data.shape) - 1    \n",
        "projected_data, explained_variance, components, expected_variance, cumu_variances = pca(data_array, n_components=max_num_features)\n",
        "\n",
        "# Print results\n",
        "print(\"Projected Data:\")\n",
        "print(projected_data)\n",
        "print(\"\\nExplained Variance:\")\n",
        "print(f\"\\nNumber of Selected Principal Components: {components.shape[1]}\")\n",
        "print()"
      ]
    },
    {
      "cell_type": "code",
      "execution_count": 36,
      "metadata": {
        "colab": {
          "base_uri": "https://localhost:8080/",
          "height": 564
        },
        "id": "iG1K0YOSTgGA",
        "outputId": "65ee771f-f626-43e5-880e-6eccf0a1d9cd"
      },
      "outputs": [
        {
          "data": {
            "image/png": "[encoded data removed]",
            "text/plain": [
              "<Figure size 800x600 with 1 Axes>"
            ]
          },
          "metadata": {},
          "output_type": "display_data"
        }
      ],
      "source": [
        "# Visualize the first 2 projected data\n",
        "plt.figure(figsize=(8, 6))\n",
        "plt.scatter(projected_data[:, 0], projected_data[:, 1], color=\"blue\")\n",
        "plt.title(\"PCA Results\")\n",
        "plt.xlabel(\"Principal Component 1\")\n",
        "plt.ylabel(\"Principal Component 2\")\n",
        "plt.grid()\n",
        "plt.show()"
      ]
    }
  ],
  "metadata": {
    "colab": {
      "provenance": []
    },
    "kernelspec": {
      "display_name": "phys4038",
      "language": "python",
      "name": "python3"
    },
    "language_info": {
      "codemirror_mode": {
        "name": "ipython",
        "version": 3
      },
      "file_extension": ".py",
      "mimetype": "text/x-python",
      "name": "python",
      "nbconvert_exporter": "python",
      "pygments_lexer": "ipython3",
      "version": "3.10.15"
    }
  },
  "nbformat": 4,
  "nbformat_minor": 0
}
