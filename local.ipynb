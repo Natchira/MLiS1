{
  "nbformat": 4,
  "nbformat_minor": 0,
  "metadata": {
    "colab": {
      "provenance": [],
      "authorship_tag": "ABX9TyP+65i41fL/KtwVqiLhH9iy",
      "include_colab_link": true
    },
    "kernelspec": {
      "name": "python3",
      "display_name": "Python 3"
    },
    "language_info": {
      "name": "python"
    }
  },
  "cells": [
    {
      "cell_type": "markdown",
      "metadata": {
        "id": "view-in-github",
        "colab_type": "text"
      },
      "source": [
        "<a href=\"https://colab.research.google.com/github/Natchira/MLiS1/blob/main/local.ipynb\" target=\"_parent\"><img src=\"https://colab.research.google.com/assets/colab-badge.svg\" alt=\"Open In Colab\"/></a>"
      ]
    },
    {
      "cell_type": "code",
      "execution_count": 44,
      "metadata": {
        "id": "rC3HfKqU7Yt9",
        "colab": {
          "base_uri": "https://localhost:8080/"
        },
        "outputId": "666bc6de-d47f-45b8-d820-6e03d103fcc7"
      },
      "outputs": [
        {
          "output_type": "stream",
          "name": "stdout",
          "text": [
            "Requirement already satisfied: pyspark in /usr/local/lib/python3.11/dist-packages (3.5.5)\n",
            "Requirement already satisfied: py4j==0.10.9.7 in /usr/local/lib/python3.11/dist-packages (from pyspark) (0.10.9.7)\n"
          ]
        }
      ],
      "source": [
        "!pip install pyspark"
      ]
    },
    {
      "cell_type": "code",
      "source": [
        "from pyspark.sql import SparkSession\n",
        "\n",
        "spark = SparkSession \\\n",
        "    .builder \\\n",
        "    .master(\"local[*]\") \\\n",
        "    .appName(\"Local approach\") \\\n",
        "    .getOrCreate()\n",
        "\n",
        "sc = spark.sparkContext"
      ],
      "metadata": {
        "id": "UGDX7yPFAO2f"
      },
      "execution_count": 45,
      "outputs": []
    },
    {
      "cell_type": "code",
      "source": [
        "import pandas as pd\n",
        "from pyspark.sql import functions as F\n",
        "from matplotlib import pyplot as plt"
      ],
      "metadata": {
        "id": "XzEBDKihASG5"
      },
      "execution_count": 46,
      "outputs": []
    },
    {
      "cell_type": "markdown",
      "source": [
        "##### Load data"
      ],
      "metadata": {
        "id": "ShsZX9zcAYPu"
      }
    },
    {
      "cell_type": "code",
      "source": [
        "!pip install kaggle"
      ],
      "metadata": {
        "colab": {
          "base_uri": "https://localhost:8080/"
        },
        "id": "OOu498nRAY02",
        "outputId": "b5d39fbb-2c1f-4fa2-caac-2a206199b5ef"
      },
      "execution_count": 47,
      "outputs": [
        {
          "output_type": "stream",
          "name": "stdout",
          "text": [
            "Requirement already satisfied: kaggle in /usr/local/lib/python3.11/dist-packages (1.7.4.2)\n",
            "Requirement already satisfied: bleach in /usr/local/lib/python3.11/dist-packages (from kaggle) (6.2.0)\n",
            "Requirement already satisfied: certifi>=14.05.14 in /usr/local/lib/python3.11/dist-packages (from kaggle) (2025.1.31)\n",
            "Requirement already satisfied: charset-normalizer in /usr/local/lib/python3.11/dist-packages (from kaggle) (3.4.1)\n",
            "Requirement already satisfied: idna in /usr/local/lib/python3.11/dist-packages (from kaggle) (3.10)\n",
            "Requirement already satisfied: protobuf in /usr/local/lib/python3.11/dist-packages (from kaggle) (5.29.4)\n",
            "Requirement already satisfied: python-dateutil>=2.5.3 in /usr/local/lib/python3.11/dist-packages (from kaggle) (2.8.2)\n",
            "Requirement already satisfied: python-slugify in /usr/local/lib/python3.11/dist-packages (from kaggle) (8.0.4)\n",
            "Requirement already satisfied: requests in /usr/local/lib/python3.11/dist-packages (from kaggle) (2.32.3)\n",
            "Requirement already satisfied: setuptools>=21.0.0 in /usr/local/lib/python3.11/dist-packages (from kaggle) (75.2.0)\n",
            "Requirement already satisfied: six>=1.10 in /usr/local/lib/python3.11/dist-packages (from kaggle) (1.17.0)\n",
            "Requirement already satisfied: text-unidecode in /usr/local/lib/python3.11/dist-packages (from kaggle) (1.3)\n",
            "Requirement already satisfied: tqdm in /usr/local/lib/python3.11/dist-packages (from kaggle) (4.67.1)\n",
            "Requirement already satisfied: urllib3>=1.15.1 in /usr/local/lib/python3.11/dist-packages (from kaggle) (2.3.0)\n",
            "Requirement already satisfied: webencodings in /usr/local/lib/python3.11/dist-packages (from kaggle) (0.5.1)\n"
          ]
        }
      ]
    },
    {
      "cell_type": "code",
      "source": [
        "from google.colab import files\n",
        "files.upload()\n",
        "\n",
        "!mkdir ~/.kaggle\n",
        "!cp kaggle.json ~/.kaggle/\n",
        "!chmod 600 ~/.kaggle/kaggle.json\n",
        "!pip install kaggle"
      ],
      "metadata": {
        "colab": {
          "base_uri": "https://localhost:8080/",
          "height": 350
        },
        "id": "JgouP3oRMU8m",
        "outputId": "e7169712-0a94-45f2-d3d3-6fb069a29b18"
      },
      "execution_count": 48,
      "outputs": [
        {
          "output_type": "display_data",
          "data": {
            "text/plain": [
              "<IPython.core.display.HTML object>"
            ],
            "text/html": [
              "\n",
              "     <input type=\"file\" id=\"files-cbb8faf4-c96a-4e48-99c8-f60f33a7cb2a\" name=\"files[]\" multiple disabled\n",
              "        style=\"border:none\" />\n",
              "     <output id=\"result-cbb8faf4-c96a-4e48-99c8-f60f33a7cb2a\">\n",
              "      Upload widget is only available when the cell has been executed in the\n",
              "      current browser session. Please rerun this cell to enable.\n",
              "      </output>\n",
              "      <script>// Copyright 2017 Google LLC\n",
              "//\n",
              "// Licensed under the Apache License, Version 2.0 (the \"License\");\n",
              "// you may not use this file except in compliance with the License.\n",
              "// You may obtain a copy of the License at\n",
              "//\n",
              "//      http://www.apache.org/licenses/LICENSE-2.0\n",
              "//\n",
              "// Unless required by applicable law or agreed to in writing, software\n",
              "// distributed under the License is distributed on an \"AS IS\" BASIS,\n",
              "// WITHOUT WARRANTIES OR CONDITIONS OF ANY KIND, either express or implied.\n",
              "// See the License for the specific language governing permissions and\n",
              "// limitations under the License.\n",
              "\n",
              "/**\n",
              " * @fileoverview Helpers for google.colab Python module.\n",
              " */\n",
              "(function(scope) {\n",
              "function span(text, styleAttributes = {}) {\n",
              "  const element = document.createElement('span');\n",
              "  element.textContent = text;\n",
              "  for (const key of Object.keys(styleAttributes)) {\n",
              "    element.style[key] = styleAttributes[key];\n",
              "  }\n",
              "  return element;\n",
              "}\n",
              "\n",
              "// Max number of bytes which will be uploaded at a time.\n",
              "const MAX_PAYLOAD_SIZE = 100 * 1024;\n",
              "\n",
              "function _uploadFiles(inputId, outputId) {\n",
              "  const steps = uploadFilesStep(inputId, outputId);\n",
              "  const outputElement = document.getElementById(outputId);\n",
              "  // Cache steps on the outputElement to make it available for the next call\n",
              "  // to uploadFilesContinue from Python.\n",
              "  outputElement.steps = steps;\n",
              "\n",
              "  return _uploadFilesContinue(outputId);\n",
              "}\n",
              "\n",
              "// This is roughly an async generator (not supported in the browser yet),\n",
              "// where there are multiple asynchronous steps and the Python side is going\n",
              "// to poll for completion of each step.\n",
              "// This uses a Promise to block the python side on completion of each step,\n",
              "// then passes the result of the previous step as the input to the next step.\n",
              "function _uploadFilesContinue(outputId) {\n",
              "  const outputElement = document.getElementById(outputId);\n",
              "  const steps = outputElement.steps;\n",
              "\n",
              "  const next = steps.next(outputElement.lastPromiseValue);\n",
              "  return Promise.resolve(next.value.promise).then((value) => {\n",
              "    // Cache the last promise value to make it available to the next\n",
              "    // step of the generator.\n",
              "    outputElement.lastPromiseValue = value;\n",
              "    return next.value.response;\n",
              "  });\n",
              "}\n",
              "\n",
              "/**\n",
              " * Generator function which is called between each async step of the upload\n",
              " * process.\n",
              " * @param {string} inputId Element ID of the input file picker element.\n",
              " * @param {string} outputId Element ID of the output display.\n",
              " * @return {!Iterable<!Object>} Iterable of next steps.\n",
              " */\n",
              "function* uploadFilesStep(inputId, outputId) {\n",
              "  const inputElement = document.getElementById(inputId);\n",
              "  inputElement.disabled = false;\n",
              "\n",
              "  const outputElement = document.getElementById(outputId);\n",
              "  outputElement.innerHTML = '';\n",
              "\n",
              "  const pickedPromise = new Promise((resolve) => {\n",
              "    inputElement.addEventListener('change', (e) => {\n",
              "      resolve(e.target.files);\n",
              "    });\n",
              "  });\n",
              "\n",
              "  const cancel = document.createElement('button');\n",
              "  inputElement.parentElement.appendChild(cancel);\n",
              "  cancel.textContent = 'Cancel upload';\n",
              "  const cancelPromise = new Promise((resolve) => {\n",
              "    cancel.onclick = () => {\n",
              "      resolve(null);\n",
              "    };\n",
              "  });\n",
              "\n",
              "  // Wait for the user to pick the files.\n",
              "  const files = yield {\n",
              "    promise: Promise.race([pickedPromise, cancelPromise]),\n",
              "    response: {\n",
              "      action: 'starting',\n",
              "    }\n",
              "  };\n",
              "\n",
              "  cancel.remove();\n",
              "\n",
              "  // Disable the input element since further picks are not allowed.\n",
              "  inputElement.disabled = true;\n",
              "\n",
              "  if (!files) {\n",
              "    return {\n",
              "      response: {\n",
              "        action: 'complete',\n",
              "      }\n",
              "    };\n",
              "  }\n",
              "\n",
              "  for (const file of files) {\n",
              "    const li = document.createElement('li');\n",
              "    li.append(span(file.name, {fontWeight: 'bold'}));\n",
              "    li.append(span(\n",
              "        `(${file.type || 'n/a'}) - ${file.size} bytes, ` +\n",
              "        `last modified: ${\n",
              "            file.lastModifiedDate ? file.lastModifiedDate.toLocaleDateString() :\n",
              "                                    'n/a'} - `));\n",
              "    const percent = span('0% done');\n",
              "    li.appendChild(percent);\n",
              "\n",
              "    outputElement.appendChild(li);\n",
              "\n",
              "    const fileDataPromise = new Promise((resolve) => {\n",
              "      const reader = new FileReader();\n",
              "      reader.onload = (e) => {\n",
              "        resolve(e.target.result);\n",
              "      };\n",
              "      reader.readAsArrayBuffer(file);\n",
              "    });\n",
              "    // Wait for the data to be ready.\n",
              "    let fileData = yield {\n",
              "      promise: fileDataPromise,\n",
              "      response: {\n",
              "        action: 'continue',\n",
              "      }\n",
              "    };\n",
              "\n",
              "    // Use a chunked sending to avoid message size limits. See b/62115660.\n",
              "    let position = 0;\n",
              "    do {\n",
              "      const length = Math.min(fileData.byteLength - position, MAX_PAYLOAD_SIZE);\n",
              "      const chunk = new Uint8Array(fileData, position, length);\n",
              "      position += length;\n",
              "\n",
              "      const base64 = btoa(String.fromCharCode.apply(null, chunk));\n",
              "      yield {\n",
              "        response: {\n",
              "          action: 'append',\n",
              "          file: file.name,\n",
              "          data: base64,\n",
              "        },\n",
              "      };\n",
              "\n",
              "      let percentDone = fileData.byteLength === 0 ?\n",
              "          100 :\n",
              "          Math.round((position / fileData.byteLength) * 100);\n",
              "      percent.textContent = `${percentDone}% done`;\n",
              "\n",
              "    } while (position < fileData.byteLength);\n",
              "  }\n",
              "\n",
              "  // All done.\n",
              "  yield {\n",
              "    response: {\n",
              "      action: 'complete',\n",
              "    }\n",
              "  };\n",
              "}\n",
              "\n",
              "scope.google = scope.google || {};\n",
              "scope.google.colab = scope.google.colab || {};\n",
              "scope.google.colab._files = {\n",
              "  _uploadFiles,\n",
              "  _uploadFilesContinue,\n",
              "};\n",
              "})(self);\n",
              "</script> "
            ]
          },
          "metadata": {}
        },
        {
          "output_type": "stream",
          "name": "stdout",
          "text": [
            "Saving kaggle.json to kaggle (1).json\n",
            "mkdir: cannot create directory ‘/root/.kaggle’: File exists\n",
            "Requirement already satisfied: kaggle in /usr/local/lib/python3.11/dist-packages (1.7.4.2)\n",
            "Requirement already satisfied: bleach in /usr/local/lib/python3.11/dist-packages (from kaggle) (6.2.0)\n",
            "Requirement already satisfied: certifi>=14.05.14 in /usr/local/lib/python3.11/dist-packages (from kaggle) (2025.1.31)\n",
            "Requirement already satisfied: charset-normalizer in /usr/local/lib/python3.11/dist-packages (from kaggle) (3.4.1)\n",
            "Requirement already satisfied: idna in /usr/local/lib/python3.11/dist-packages (from kaggle) (3.10)\n",
            "Requirement already satisfied: protobuf in /usr/local/lib/python3.11/dist-packages (from kaggle) (5.29.4)\n",
            "Requirement already satisfied: python-dateutil>=2.5.3 in /usr/local/lib/python3.11/dist-packages (from kaggle) (2.8.2)\n",
            "Requirement already satisfied: python-slugify in /usr/local/lib/python3.11/dist-packages (from kaggle) (8.0.4)\n",
            "Requirement already satisfied: requests in /usr/local/lib/python3.11/dist-packages (from kaggle) (2.32.3)\n",
            "Requirement already satisfied: setuptools>=21.0.0 in /usr/local/lib/python3.11/dist-packages (from kaggle) (75.2.0)\n",
            "Requirement already satisfied: six>=1.10 in /usr/local/lib/python3.11/dist-packages (from kaggle) (1.17.0)\n",
            "Requirement already satisfied: text-unidecode in /usr/local/lib/python3.11/dist-packages (from kaggle) (1.3)\n",
            "Requirement already satisfied: tqdm in /usr/local/lib/python3.11/dist-packages (from kaggle) (4.67.1)\n",
            "Requirement already satisfied: urllib3>=1.15.1 in /usr/local/lib/python3.11/dist-packages (from kaggle) (2.3.0)\n",
            "Requirement already satisfied: webencodings in /usr/local/lib/python3.11/dist-packages (from kaggle) (0.5.1)\n"
          ]
        }
      ]
    },
    {
      "cell_type": "code",
      "source": [
        "!kaggle datasets download -d mlg-ulb/creditcardfraud --unzip"
      ],
      "metadata": {
        "colab": {
          "base_uri": "https://localhost:8080/"
        },
        "id": "aQDfbnsDMfto",
        "outputId": "ef36dd46-30f0-4c8e-b4ff-45df4ac61f0a"
      },
      "execution_count": 49,
      "outputs": [
        {
          "output_type": "stream",
          "name": "stdout",
          "text": [
            "Dataset URL: https://www.kaggle.com/datasets/mlg-ulb/creditcardfraud\n",
            "License(s): DbCL-1.0\n"
          ]
        }
      ]
    },
    {
      "cell_type": "code",
      "source": [
        "df = spark.read.csv(\"creditcard.csv\", header=True, inferSchema=True)\n",
        "df.show(5)"
      ],
      "metadata": {
        "colab": {
          "base_uri": "https://localhost:8080/"
        },
        "id": "Zm_dlAPIMerf",
        "outputId": "5583a5a9-b9eb-4641-df63-aa98da60da7c"
      },
      "execution_count": 50,
      "outputs": [
        {
          "output_type": "stream",
          "name": "stdout",
          "text": [
            "+----+------------------+-------------------+----------------+------------------+-------------------+-------------------+-------------------+------------------+------------------+-------------------+------------------+------------------+------------------+------------------+------------------+------------------+------------------+-------------------+------------------+-------------------+--------------------+-------------------+------------------+------------------+------------------+------------------+--------------------+-------------------+------+-----+\n",
            "|Time|                V1|                 V2|              V3|                V4|                 V5|                 V6|                 V7|                V8|                V9|                V10|               V11|               V12|               V13|               V14|               V15|               V16|               V17|                V18|               V19|                V20|                 V21|                V22|               V23|               V24|               V25|               V26|                 V27|                V28|Amount|Class|\n",
            "+----+------------------+-------------------+----------------+------------------+-------------------+-------------------+-------------------+------------------+------------------+-------------------+------------------+------------------+------------------+------------------+------------------+------------------+------------------+-------------------+------------------+-------------------+--------------------+-------------------+------------------+------------------+------------------+------------------+--------------------+-------------------+------+-----+\n",
            "| 0.0|  -1.3598071336738|-0.0727811733098497|2.53634673796914|  1.37815522427443| -0.338320769942518|  0.462387777762292|  0.239598554061257|0.0986979012610507| 0.363786969611213| 0.0907941719789316|-0.551599533260813|-0.617800855762348|-0.991389847235408|-0.311169353699879|  1.46817697209427|-0.470400525259478| 0.207971241929242| 0.0257905801985591| 0.403992960255733|  0.251412098239705|  -0.018306777944153|  0.277837575558899|-0.110473910188767|0.0669280749146731| 0.128539358273528|-0.189114843888824|   0.133558376740387|-0.0210530534538215|149.62|    0|\n",
            "| 0.0|  1.19185711131486|   0.26615071205963|0.16648011335321| 0.448154078460911| 0.0600176492822243|-0.0823608088155687|-0.0788029833323113|0.0851016549148104|-0.255425128109186| -0.166974414004614|  1.61272666105479|  1.06523531137287|  0.48909501589608|-0.143772296441519| 0.635558093258208| 0.463917041022171|-0.114804663102346| -0.183361270123994|-0.145783041325259|-0.0690831352230203|  -0.225775248033138| -0.638671952771851| 0.101288021253234|-0.339846475529127| 0.167170404418143| 0.125894532368176|-0.00898309914322813| 0.0147241691924927|  2.69|    0|\n",
            "| 1.0| -1.35835406159823|  -1.34016307473609|1.77320934263119| 0.379779593034328| -0.503198133318193|   1.80049938079263|  0.791460956450422| 0.247675786588991| -1.51465432260583|  0.207642865216696| 0.624501459424895| 0.066083685268831| 0.717292731410831|-0.165945922763554|  2.34586494901581| -2.89008319444231|  1.10996937869599| -0.121359313195888| -2.26185709530414|  0.524979725224404|   0.247998153469754|  0.771679401917229| 0.909412262347719|-0.689280956490685|-0.327641833735251|-0.139096571514147| -0.0553527940384261|-0.0597518405929204|378.66|    0|\n",
            "| 1.0|-0.966271711572087| -0.185226008082898|1.79299333957872|-0.863291275036453|-0.0103088796030823|   1.24720316752486|   0.23760893977178| 0.377435874652262| -1.38702406270197|-0.0549519224713749|-0.226487263835401| 0.178228225877303| 0.507756869957169| -0.28792374549456|-0.631418117709045|  -1.0596472454325|-0.684092786345479|   1.96577500349538|  -1.2326219700892| -0.208037781160366|  -0.108300452035545|0.00527359678253453|-0.190320518742841| -1.17557533186321| 0.647376034602038|-0.221928844458407|  0.0627228487293033| 0.0614576285006353| 123.5|    0|\n",
            "| 2.0| -1.15823309349523|  0.877736754848451|  1.548717846511| 0.403033933955121| -0.407193377311653| 0.0959214624684256|  0.592940745385545|-0.270532677192282| 0.817739308235294|  0.753074431976354|-0.822842877946363|  0.53819555014995|   1.3458515932154| -1.11966983471731| 0.175121130008994|-0.451449182813529|-0.237033239362776|-0.0381947870352842| 0.803486924960175|  0.408542360392758|-0.00943069713232919|   0.79827849458971|-0.137458079619063| 0.141266983824769|-0.206009587619756| 0.502292224181569|   0.219422229513348|  0.215153147499206| 69.99|    0|\n",
            "+----+------------------+-------------------+----------------+------------------+-------------------+-------------------+-------------------+------------------+------------------+-------------------+------------------+------------------+------------------+------------------+------------------+------------------+------------------+-------------------+------------------+-------------------+--------------------+-------------------+------------------+------------------+------------------+------------------+--------------------+-------------------+------+-----+\n",
            "only showing top 5 rows\n",
            "\n"
          ]
        }
      ]
    },
    {
      "cell_type": "markdown",
      "source": [
        " correlation"
      ],
      "metadata": {
        "id": "jDiHtuJ6ttRB"
      }
    },
    {
      "cell_type": "code",
      "source": [
        "# from pyspark.ml.stat import Correlation\n",
        "corr_value = df.stat.corr(\"Time\", \"Class\")\n",
        "corr_value"
      ],
      "metadata": {
        "colab": {
          "base_uri": "https://localhost:8080/"
        },
        "id": "uoP54nSVsNcF",
        "outputId": "282b41d5-0eeb-463d-e665-e796ad83fe10"
      },
      "execution_count": 51,
      "outputs": [
        {
          "output_type": "execute_result",
          "data": {
            "text/plain": [
              "-0.012322570929245536"
            ]
          },
          "metadata": {},
          "execution_count": 51
        }
      ]
    },
    {
      "cell_type": "code",
      "source": [
        "# from pyspark.ml.stat import Correlation\n",
        "corr_value = df.stat.corr(\"Amount\", \"Class\")\n",
        "corr_value"
      ],
      "metadata": {
        "colab": {
          "base_uri": "https://localhost:8080/"
        },
        "id": "yTPzt4Iw1nKT",
        "outputId": "0532df42-e2ac-49f1-be6b-01a1b6821d03"
      },
      "execution_count": 52,
      "outputs": [
        {
          "output_type": "execute_result",
          "data": {
            "text/plain": [
              "0.005631753006768532"
            ]
          },
          "metadata": {},
          "execution_count": 52
        }
      ]
    },
    {
      "cell_type": "markdown",
      "source": [
        "no linear relationship between the two variables  --> Time,Amount&Class"
      ],
      "metadata": {
        "id": "u6EatFCXxbPq"
      }
    },
    {
      "cell_type": "code",
      "source": [
        "df = df.drop(\"Time\", \"Amount\")\n",
        "df.cache()\n",
        "df.show(5)"
      ],
      "metadata": {
        "colab": {
          "base_uri": "https://localhost:8080/"
        },
        "id": "KBy0oVgw4PEZ",
        "outputId": "2746122c-de28-4ef5-e60d-c035e8212a49"
      },
      "execution_count": 53,
      "outputs": [
        {
          "output_type": "stream",
          "name": "stdout",
          "text": [
            "+------------------+-------------------+----------------+------------------+-------------------+-------------------+-------------------+------------------+------------------+-------------------+------------------+------------------+------------------+------------------+------------------+------------------+------------------+-------------------+------------------+-------------------+--------------------+-------------------+------------------+------------------+------------------+------------------+--------------------+-------------------+-----+\n",
            "|                V1|                 V2|              V3|                V4|                 V5|                 V6|                 V7|                V8|                V9|                V10|               V11|               V12|               V13|               V14|               V15|               V16|               V17|                V18|               V19|                V20|                 V21|                V22|               V23|               V24|               V25|               V26|                 V27|                V28|Class|\n",
            "+------------------+-------------------+----------------+------------------+-------------------+-------------------+-------------------+------------------+------------------+-------------------+------------------+------------------+------------------+------------------+------------------+------------------+------------------+-------------------+------------------+-------------------+--------------------+-------------------+------------------+------------------+------------------+------------------+--------------------+-------------------+-----+\n",
            "|  -1.3598071336738|-0.0727811733098497|2.53634673796914|  1.37815522427443| -0.338320769942518|  0.462387777762292|  0.239598554061257|0.0986979012610507| 0.363786969611213| 0.0907941719789316|-0.551599533260813|-0.617800855762348|-0.991389847235408|-0.311169353699879|  1.46817697209427|-0.470400525259478| 0.207971241929242| 0.0257905801985591| 0.403992960255733|  0.251412098239705|  -0.018306777944153|  0.277837575558899|-0.110473910188767|0.0669280749146731| 0.128539358273528|-0.189114843888824|   0.133558376740387|-0.0210530534538215|    0|\n",
            "|  1.19185711131486|   0.26615071205963|0.16648011335321| 0.448154078460911| 0.0600176492822243|-0.0823608088155687|-0.0788029833323113|0.0851016549148104|-0.255425128109186| -0.166974414004614|  1.61272666105479|  1.06523531137287|  0.48909501589608|-0.143772296441519| 0.635558093258208| 0.463917041022171|-0.114804663102346| -0.183361270123994|-0.145783041325259|-0.0690831352230203|  -0.225775248033138| -0.638671952771851| 0.101288021253234|-0.339846475529127| 0.167170404418143| 0.125894532368176|-0.00898309914322813| 0.0147241691924927|    0|\n",
            "| -1.35835406159823|  -1.34016307473609|1.77320934263119| 0.379779593034328| -0.503198133318193|   1.80049938079263|  0.791460956450422| 0.247675786588991| -1.51465432260583|  0.207642865216696| 0.624501459424895| 0.066083685268831| 0.717292731410831|-0.165945922763554|  2.34586494901581| -2.89008319444231|  1.10996937869599| -0.121359313195888| -2.26185709530414|  0.524979725224404|   0.247998153469754|  0.771679401917229| 0.909412262347719|-0.689280956490685|-0.327641833735251|-0.139096571514147| -0.0553527940384261|-0.0597518405929204|    0|\n",
            "|-0.966271711572087| -0.185226008082898|1.79299333957872|-0.863291275036453|-0.0103088796030823|   1.24720316752486|   0.23760893977178| 0.377435874652262| -1.38702406270197|-0.0549519224713749|-0.226487263835401| 0.178228225877303| 0.507756869957169| -0.28792374549456|-0.631418117709045|  -1.0596472454325|-0.684092786345479|   1.96577500349538|  -1.2326219700892| -0.208037781160366|  -0.108300452035545|0.00527359678253453|-0.190320518742841| -1.17557533186321| 0.647376034602038|-0.221928844458407|  0.0627228487293033| 0.0614576285006353|    0|\n",
            "| -1.15823309349523|  0.877736754848451|  1.548717846511| 0.403033933955121| -0.407193377311653| 0.0959214624684256|  0.592940745385545|-0.270532677192282| 0.817739308235294|  0.753074431976354|-0.822842877946363|  0.53819555014995|   1.3458515932154| -1.11966983471731| 0.175121130008994|-0.451449182813529|-0.237033239362776|-0.0381947870352842| 0.803486924960175|  0.408542360392758|-0.00943069713232919|   0.79827849458971|-0.137458079619063| 0.141266983824769|-0.206009587619756| 0.502292224181569|   0.219422229513348|  0.215153147499206|    0|\n",
            "+------------------+-------------------+----------------+------------------+-------------------+-------------------+-------------------+------------------+------------------+-------------------+------------------+------------------+------------------+------------------+------------------+------------------+------------------+-------------------+------------------+-------------------+--------------------+-------------------+------------------+------------------+------------------+------------------+--------------------+-------------------+-----+\n",
            "only showing top 5 rows\n",
            "\n"
          ]
        }
      ]
    },
    {
      "cell_type": "markdown",
      "source": [
        "##### Split Train set/test set"
      ],
      "metadata": {
        "id": "GAZyo6mpmguO"
      }
    },
    {
      "cell_type": "code",
      "source": [
        "train_df, test_df = df.randomSplit([0.7, 0.3], seed=202503)\n",
        "print('training:',train_df.count())\n",
        "print('testing:', test_df.count())"
      ],
      "metadata": {
        "colab": {
          "base_uri": "https://localhost:8080/"
        },
        "id": "AOyWtYe0_zh_",
        "outputId": "d96a1536-d8b0-48a7-bc49-2a02e20c6726"
      },
      "execution_count": 54,
      "outputs": [
        {
          "output_type": "stream",
          "name": "stdout",
          "text": [
            "training: 199251\n",
            "testing: 85556\n"
          ]
        }
      ]
    },
    {
      "cell_type": "code",
      "source": [
        "# calculate the ratio between majority and minority\n",
        "from pyspark.sql.functions import col, round\n",
        "\n",
        "# training set\n",
        "total_train = train_df.count()\n",
        "train_df.groupBy(\"class\").count()\\\n",
        "    .withColumn(\"%\", round(col(\"count\")/total_train * 100, 3))\\\n",
        "    .show()\n",
        "\n",
        "# test set\n",
        "total_test = test_df.count()\n",
        "test_df.groupBy(\"class\").count()\\\n",
        "    .withColumn(\"%\", round(col(\"count\")/total_test * 100, 3))\\\n",
        "    .show()"
      ],
      "metadata": {
        "colab": {
          "base_uri": "https://localhost:8080/"
        },
        "id": "9v0hujwrKCFB",
        "outputId": "e0856869-3af2-444d-aa79-390a5b49b7ca"
      },
      "execution_count": 55,
      "outputs": [
        {
          "output_type": "stream",
          "name": "stdout",
          "text": [
            "+-----+------+------+\n",
            "|class| count|     %|\n",
            "+-----+------+------+\n",
            "|    1|   350| 0.176|\n",
            "|    0|198901|99.824|\n",
            "+-----+------+------+\n",
            "\n",
            "+-----+-----+------+\n",
            "|class|count|     %|\n",
            "+-----+-----+------+\n",
            "|    1|  142| 0.166|\n",
            "|    0|85414|99.834|\n",
            "+-----+-----+------+\n",
            "\n"
          ]
        }
      ]
    },
    {
      "cell_type": "markdown",
      "source": [
        "filter and extract minority"
      ],
      "metadata": {
        "id": "mMXMFZr1EhDQ"
      }
    },
    {
      "cell_type": "code",
      "source": [
        "Minority_class = train_df.filter(col(\"class\") == 1)\n",
        "Minority_class.show(5)"
      ],
      "metadata": {
        "id": "lhwU-DENmzoA",
        "colab": {
          "base_uri": "https://localhost:8080/"
        },
        "outputId": "369e19a7-6192-466d-b444-ab77de488154"
      },
      "execution_count": 56,
      "outputs": [
        {
          "output_type": "stream",
          "name": "stdout",
          "text": [
            "+-----------------+----------------+-----------------+----------------+-----------------+-----------------+-----------------+----------------+-----------------+-----------------+----------------+-----------------+-----------------+-----------------+-------------------+-----------------+-----------------+-----------------+-----------------+----------------+----------------+-----------------+-----------------+-----------------+----------------+------------------+----------------+-----------------+-----+\n",
            "|               V1|              V2|               V3|              V4|               V5|               V6|               V7|              V8|               V9|              V10|             V11|              V12|              V13|              V14|                V15|              V16|              V17|              V18|              V19|             V20|             V21|              V22|              V23|              V24|             V25|               V26|             V27|              V28|Class|\n",
            "+-----------------+----------------+-----------------+----------------+-----------------+-----------------+-----------------+----------------+-----------------+-----------------+----------------+-----------------+-----------------+-----------------+-------------------+-----------------+-----------------+-----------------+-----------------+----------------+----------------+-----------------+-----------------+-----------------+----------------+------------------+----------------+-----------------+-----+\n",
            "|-29.8763655139763|16.4345245512223|-30.5586968214292|6.50586178736296|-21.6656542956569|-4.94035632949796|-20.0813910746494|19.5877726234404|-3.59149104711596|-7.80059820772759|3.94783971729026| -5.4879114860488| 1.36994034924206|-4.82955244300835| -0.134412095441135|-5.12116240451142|-11.1181904509172|-4.65995586983801|0.608930080519071|1.72477883837961|1.81295397464878|-2.23225158753151|-1.41280344282556|0.178731069561437|2.15604185816706| -0.20938462411377|1.25564890085966|0.364530452975509|    1|\n",
            "|-29.2003285905744|16.1557014298057|-30.0137124857248|6.47673117996833|-21.2258096535165|-4.90299739658728| -19.791248405247|19.1683273897301|-3.61724178604255|-7.87012194292549|4.06625507293473|-5.66149242261771| 1.29295014454242|-5.07984568135779| -0.126522740416921|-5.24447151974264|-11.2749725851252|-4.67843652929376|0.650807370688892|1.71586182428358| 1.8093709332884|-2.17581520342142| -1.3651041075509|0.174286359566544|2.10386807204715|-0.209943999130567|1.27868097084218|0.372392714338541|    1|\n",
            "|-28.5242675938406|15.8769229879536|-29.4687320925264|6.44759140152748|-20.7860000418837|-4.86561341755669|-19.5010840750712|18.7488719520883|-3.64298981925263|-7.93964241937325|4.18467368942509|-5.83507521523889| 1.21595964527928|-5.33014378246253| -0.118631138153322|-5.36777527618834|-11.4317569116986|-4.69692444373293| 0.69268841200477| 1.7068890619925|1.80576978392608|-2.11937616760819|-1.31744962200248|0.169845630469178|2.05168733506275|-0.210502000459411|1.30173396497076|0.380246181418509|    1|\n",
            "|-25.9424344479142|14.6019980426299|-27.3686502881266|6.37839460769688|-19.1040334039646|-4.68480620428185|-18.2613929340355|17.0525663121462|-3.74260500983864|  -8.233721369876| 4.6648362538527|-6.52566786025865| 0.92375858946558|-6.32597461208273|-0.0702237027595964|-5.83836021908828|-12.0616957125199|-4.77334851403019|0.852969608454831|1.66730429040185|1.78431598423494|-1.91775921336107|-1.23578743924962|0.161104731783341|1.82037804128869|  -0.2193590586868|1.38878576213598|0.406809649908512|    1|\n",
            "|-25.2663550194138|14.3232538097233|-26.8236729135114|6.34924780743689| -18.664250613469|-4.64740304866878|-17.9712120192706|16.6331030618556|-3.76835097141465|  -8.303239351259|4.78325736701241| -6.6992520739678|0.846767864669643|-6.57627643636006|-0.0623303798952992|-5.96165987257541|-12.2184817176797|-4.79184198325342|0.894853521838799|1.65828884445902|1.78070097046593|-1.86131814726914|-1.18816729293127|0.156667050663465|1.76819198236914|-0.219916008250323|1.41185477685432|0.414656383638367|    1|\n",
            "+-----------------+----------------+-----------------+----------------+-----------------+-----------------+-----------------+----------------+-----------------+-----------------+----------------+-----------------+-----------------+-----------------+-------------------+-----------------+-----------------+-----------------+-----------------+----------------+----------------+-----------------+-----------------+-----------------+----------------+------------------+----------------+-----------------+-----+\n",
            "only showing top 5 rows\n",
            "\n"
          ]
        }
      ]
    },
    {
      "cell_type": "markdown",
      "source": [
        "K-Mean"
      ],
      "metadata": {
        "id": "4J49nr7pOpR4"
      }
    },
    {
      "cell_type": "code",
      "source": [
        "# Normalise our features\n",
        "from pyspark.ml.feature import VectorAssembler\n",
        "feature_cols = [c for c in Minority_class.columns if c != \"Class\"]\n",
        "assembler = VectorAssembler(inputCols=feature_cols, outputCol=\"features\")\n",
        "feature_vectors = assembler.transform(Minority_class)\n",
        "feature_vectors.show(5, truncate=False)"
      ],
      "metadata": {
        "id": "sFimPaSDmz6V",
        "colab": {
          "base_uri": "https://localhost:8080/"
        },
        "outputId": "c6688aad-84ae-4338-f85b-6ca524dc18e7"
      },
      "execution_count": 57,
      "outputs": [
        {
          "output_type": "stream",
          "name": "stdout",
          "text": [
            "+-----------------+----------------+-----------------+----------------+-----------------+-----------------+-----------------+----------------+-----------------+-----------------+----------------+-----------------+-----------------+-----------------+-------------------+-----------------+-----------------+-----------------+-----------------+----------------+----------------+-----------------+-----------------+-----------------+----------------+------------------+----------------+-----------------+-----+----------------------------------------------------------------------------------------------------------------------------------------------------------------------------------------------------------------------------------------------------------------------------------------------------------------------------------------------------------------------------------------------------------------------------------------------------------------------------------------------------------------+\n",
            "|V1               |V2              |V3               |V4              |V5               |V6               |V7               |V8              |V9               |V10              |V11             |V12              |V13              |V14              |V15                |V16              |V17              |V18              |V19              |V20             |V21             |V22              |V23              |V24              |V25             |V26               |V27             |V28              |Class|features                                                                                                                                                                                                                                                                                                                                                                                                                                                                                                        |\n",
            "+-----------------+----------------+-----------------+----------------+-----------------+-----------------+-----------------+----------------+-----------------+-----------------+----------------+-----------------+-----------------+-----------------+-------------------+-----------------+-----------------+-----------------+-----------------+----------------+----------------+-----------------+-----------------+-----------------+----------------+------------------+----------------+-----------------+-----+----------------------------------------------------------------------------------------------------------------------------------------------------------------------------------------------------------------------------------------------------------------------------------------------------------------------------------------------------------------------------------------------------------------------------------------------------------------------------------------------------------------+\n",
            "|-29.8763655139763|16.4345245512223|-30.5586968214292|6.50586178736296|-21.6656542956569|-4.94035632949796|-20.0813910746494|19.5877726234404|-3.59149104711596|-7.80059820772759|3.94783971729026|-5.4879114860488 |1.36994034924206 |-4.82955244300835|-0.134412095441135 |-5.12116240451142|-11.1181904509172|-4.65995586983801|0.608930080519071|1.72477883837961|1.81295397464878|-2.23225158753151|-1.41280344282556|0.178731069561437|2.15604185816706|-0.20938462411377 |1.25564890085966|0.364530452975509|1    |[-29.8763655139763,16.4345245512223,-30.5586968214292,6.50586178736296,-21.6656542956569,-4.94035632949796,-20.0813910746494,19.5877726234404,-3.59149104711596,-7.80059820772759,3.94783971729026,-5.4879114860488,1.36994034924206,-4.82955244300835,-0.134412095441135,-5.12116240451142,-11.1181904509172,-4.65995586983801,0.608930080519071,1.72477883837961,1.81295397464878,-2.23225158753151,-1.41280344282556,0.178731069561437,2.15604185816706,-0.20938462411377,1.25564890085966,0.364530452975509]|\n",
            "|-29.2003285905744|16.1557014298057|-30.0137124857248|6.47673117996833|-21.2258096535165|-4.90299739658728|-19.791248405247 |19.1683273897301|-3.61724178604255|-7.87012194292549|4.06625507293473|-5.66149242261771|1.29295014454242 |-5.07984568135779|-0.126522740416921 |-5.24447151974264|-11.2749725851252|-4.67843652929376|0.650807370688892|1.71586182428358|1.8093709332884 |-2.17581520342142|-1.3651041075509 |0.174286359566544|2.10386807204715|-0.209943999130567|1.27868097084218|0.372392714338541|1    |[-29.2003285905744,16.1557014298057,-30.0137124857248,6.47673117996833,-21.2258096535165,-4.90299739658728,-19.791248405247,19.1683273897301,-3.61724178604255,-7.87012194292549,4.06625507293473,-5.66149242261771,1.29295014454242,-5.07984568135779,-0.126522740416921,-5.24447151974264,-11.2749725851252,-4.67843652929376,0.650807370688892,1.71586182428358,1.8093709332884,-2.17581520342142,-1.3651041075509,0.174286359566544,2.10386807204715,-0.209943999130567,1.27868097084218,0.372392714338541] |\n",
            "|-28.5242675938406|15.8769229879536|-29.4687320925264|6.44759140152748|-20.7860000418837|-4.86561341755669|-19.5010840750712|18.7488719520883|-3.64298981925263|-7.93964241937325|4.18467368942509|-5.83507521523889|1.21595964527928 |-5.33014378246253|-0.118631138153322 |-5.36777527618834|-11.4317569116986|-4.69692444373293|0.69268841200477 |1.7068890619925 |1.80576978392608|-2.11937616760819|-1.31744962200248|0.169845630469178|2.05168733506275|-0.210502000459411|1.30173396497076|0.380246181418509|1    |[-28.5242675938406,15.8769229879536,-29.4687320925264,6.44759140152748,-20.7860000418837,-4.86561341755669,-19.5010840750712,18.7488719520883,-3.64298981925263,-7.93964241937325,4.18467368942509,-5.83507521523889,1.21595964527928,-5.33014378246253,-0.118631138153322,-5.36777527618834,-11.4317569116986,-4.69692444373293,0.69268841200477,1.7068890619925,1.80576978392608,-2.11937616760819,-1.31744962200248,0.169845630469178,2.05168733506275,-0.210502000459411,1.30173396497076,0.380246181418509]|\n",
            "|-25.9424344479142|14.6019980426299|-27.3686502881266|6.37839460769688|-19.1040334039646|-4.68480620428185|-18.2613929340355|17.0525663121462|-3.74260500983864|-8.233721369876  |4.6648362538527 |-6.52566786025865|0.92375858946558 |-6.32597461208273|-0.0702237027595964|-5.83836021908828|-12.0616957125199|-4.77334851403019|0.852969608454831|1.66730429040185|1.78431598423494|-1.91775921336107|-1.23578743924962|0.161104731783341|1.82037804128869|-0.2193590586868  |1.38878576213598|0.406809649908512|1    |[-25.9424344479142,14.6019980426299,-27.3686502881266,6.37839460769688,-19.1040334039646,-4.68480620428185,-18.2613929340355,17.0525663121462,-3.74260500983864,-8.233721369876,4.6648362538527,-6.52566786025865,0.92375858946558,-6.32597461208273,-0.0702237027595964,-5.83836021908828,-12.0616957125199,-4.77334851403019,0.852969608454831,1.66730429040185,1.78431598423494,-1.91775921336107,-1.23578743924962,0.161104731783341,1.82037804128869,-0.2193590586868,1.38878576213598,0.406809649908512]  |\n",
            "|-25.2663550194138|14.3232538097233|-26.8236729135114|6.34924780743689|-18.664250613469 |-4.64740304866878|-17.9712120192706|16.6331030618556|-3.76835097141465|-8.303239351259  |4.78325736701241|-6.6992520739678 |0.846767864669643|-6.57627643636006|-0.0623303798952992|-5.96165987257541|-12.2184817176797|-4.79184198325342|0.894853521838799|1.65828884445902|1.78070097046593|-1.86131814726914|-1.18816729293127|0.156667050663465|1.76819198236914|-0.219916008250323|1.41185477685432|0.414656383638367|1    |[-25.2663550194138,14.3232538097233,-26.8236729135114,6.34924780743689,-18.664250613469,-4.64740304866878,-17.9712120192706,16.6331030618556,-3.76835097141465,-8.303239351259,4.78325736701241,-6.6992520739678,0.846767864669643,-6.57627643636006,-0.0623303798952992,-5.96165987257541,-12.2184817176797,-4.79184198325342,0.894853521838799,1.65828884445902,1.78070097046593,-1.86131814726914,-1.18816729293127,0.156667050663465,1.76819198236914,-0.219916008250323,1.41185477685432,0.414656383638367]|\n",
            "+-----------------+----------------+-----------------+----------------+-----------------+-----------------+-----------------+----------------+-----------------+-----------------+----------------+-----------------+-----------------+-----------------+-------------------+-----------------+-----------------+-----------------+-----------------+----------------+----------------+-----------------+-----------------+-----------------+----------------+------------------+----------------+-----------------+-----+----------------------------------------------------------------------------------------------------------------------------------------------------------------------------------------------------------------------------------------------------------------------------------------------------------------------------------------------------------------------------------------------------------------------------------------------------------------------------------------------------------------+\n",
            "only showing top 5 rows\n",
            "\n"
          ]
        }
      ]
    },
    {
      "cell_type": "code",
      "source": [
        "# MinMaxScaler\n",
        "# scaler = MinMaxScaler(inputCol=\"features\", outputCol=\"scaled_features\")\n",
        "# scaler_model = scaler.fit(feature_vectors)\n",
        "# scaled_df = scaler_model.transform(feature_vectors)\n",
        "# scaled_df.show(5,truncate=False)"
      ],
      "metadata": {
        "id": "hKiLYqJMm0EU"
      },
      "execution_count": 58,
      "outputs": []
    },
    {
      "cell_type": "code",
      "source": [
        "feature_vectors.rdd.getNumPartitions()\n",
        "print(\"Number of partitions:\", feature_vectors.rdd.getNumPartitions())"
      ],
      "metadata": {
        "colab": {
          "base_uri": "https://localhost:8080/"
        },
        "id": "8C-s7CXaiXb4",
        "outputId": "5f29d1f5-2490-4913-89c2-f59452a59a92"
      },
      "execution_count": 59,
      "outputs": [
        {
          "output_type": "stream",
          "name": "stdout",
          "text": [
            "Number of partitions: 2\n"
          ]
        }
      ]
    },
    {
      "cell_type": "code",
      "source": [
        "# X_df_1 = feature_vectors.select(feature_vectors['features']).repartition(1)\n",
        "# X_df_1.cache()\n",
        "# X_df_1.show(5,truncate=False)"
      ],
      "metadata": {
        "id": "I9T7mKjCm0Oi"
      },
      "execution_count": 60,
      "outputs": []
    },
    {
      "cell_type": "code",
      "source": [
        "X_df_2 = feature_vectors.select(feature_vectors['features'])\n",
        "X_df_2.cache()\n",
        "X_df_2.show(5,truncate=False)"
      ],
      "metadata": {
        "colab": {
          "base_uri": "https://localhost:8080/"
        },
        "id": "s-NzVRfAbXXx",
        "outputId": "7a655cfb-f416-43ec-e8a8-5f66653ede21"
      },
      "execution_count": 61,
      "outputs": [
        {
          "output_type": "stream",
          "name": "stdout",
          "text": [
            "+----------------------------------------------------------------------------------------------------------------------------------------------------------------------------------------------------------------------------------------------------------------------------------------------------------------------------------------------------------------------------------------------------------------------------------------------------------------------------------------------------------------+\n",
            "|features                                                                                                                                                                                                                                                                                                                                                                                                                                                                                                        |\n",
            "+----------------------------------------------------------------------------------------------------------------------------------------------------------------------------------------------------------------------------------------------------------------------------------------------------------------------------------------------------------------------------------------------------------------------------------------------------------------------------------------------------------------+\n",
            "|[-29.8763655139763,16.4345245512223,-30.5586968214292,6.50586178736296,-21.6656542956569,-4.94035632949796,-20.0813910746494,19.5877726234404,-3.59149104711596,-7.80059820772759,3.94783971729026,-5.4879114860488,1.36994034924206,-4.82955244300835,-0.134412095441135,-5.12116240451142,-11.1181904509172,-4.65995586983801,0.608930080519071,1.72477883837961,1.81295397464878,-2.23225158753151,-1.41280344282556,0.178731069561437,2.15604185816706,-0.20938462411377,1.25564890085966,0.364530452975509]|\n",
            "|[-29.2003285905744,16.1557014298057,-30.0137124857248,6.47673117996833,-21.2258096535165,-4.90299739658728,-19.791248405247,19.1683273897301,-3.61724178604255,-7.87012194292549,4.06625507293473,-5.66149242261771,1.29295014454242,-5.07984568135779,-0.126522740416921,-5.24447151974264,-11.2749725851252,-4.67843652929376,0.650807370688892,1.71586182428358,1.8093709332884,-2.17581520342142,-1.3651041075509,0.174286359566544,2.10386807204715,-0.209943999130567,1.27868097084218,0.372392714338541] |\n",
            "|[-28.5242675938406,15.8769229879536,-29.4687320925264,6.44759140152748,-20.7860000418837,-4.86561341755669,-19.5010840750712,18.7488719520883,-3.64298981925263,-7.93964241937325,4.18467368942509,-5.83507521523889,1.21595964527928,-5.33014378246253,-0.118631138153322,-5.36777527618834,-11.4317569116986,-4.69692444373293,0.69268841200477,1.7068890619925,1.80576978392608,-2.11937616760819,-1.31744962200248,0.169845630469178,2.05168733506275,-0.210502000459411,1.30173396497076,0.380246181418509]|\n",
            "|[-25.9424344479142,14.6019980426299,-27.3686502881266,6.37839460769688,-19.1040334039646,-4.68480620428185,-18.2613929340355,17.0525663121462,-3.74260500983864,-8.233721369876,4.6648362538527,-6.52566786025865,0.92375858946558,-6.32597461208273,-0.0702237027595964,-5.83836021908828,-12.0616957125199,-4.77334851403019,0.852969608454831,1.66730429040185,1.78431598423494,-1.91775921336107,-1.23578743924962,0.161104731783341,1.82037804128869,-0.2193590586868,1.38878576213598,0.406809649908512]  |\n",
            "|[-25.2663550194138,14.3232538097233,-26.8236729135114,6.34924780743689,-18.664250613469,-4.64740304866878,-17.9712120192706,16.6331030618556,-3.76835097141465,-8.303239351259,4.78325736701241,-6.6992520739678,0.846767864669643,-6.57627643636006,-0.0623303798952992,-5.96165987257541,-12.2184817176797,-4.79184198325342,0.894853521838799,1.65828884445902,1.78070097046593,-1.86131814726914,-1.18816729293127,0.156667050663465,1.76819198236914,-0.219916008250323,1.41185477685432,0.414656383638367]|\n",
            "+----------------------------------------------------------------------------------------------------------------------------------------------------------------------------------------------------------------------------------------------------------------------------------------------------------------------------------------------------------------------------------------------------------------------------------------------------------------------------------------------------------------+\n",
            "only showing top 5 rows\n",
            "\n"
          ]
        }
      ]
    },
    {
      "cell_type": "markdown",
      "source": [
        " Oversampling Time Measurement"
      ],
      "metadata": {
        "id": "fpgbaTkMT4Yx"
      }
    },
    {
      "cell_type": "code",
      "source": [
        "import time\n",
        "start_time = time.time()"
      ],
      "metadata": {
        "id": "0DewfibCT1Ai"
      },
      "execution_count": 62,
      "outputs": []
    },
    {
      "cell_type": "markdown",
      "source": [
        "# K-mean"
      ],
      "metadata": {
        "id": "W3mYMek3MocW"
      }
    },
    {
      "cell_type": "code",
      "source": [
        "import numpy as np\n",
        "from pyspark.sql import functions as F\n",
        "from pyspark.sql.types import IntegerType\n",
        "from pyspark.ml.stat import Summarizer\n",
        "\n",
        "def kmeans(df, k, sample_fraction, threshold=0.01, seed=1):\n",
        "    # Initial Centroids\n",
        "    centroids = np.array(df.sample(fraction=sample_fraction,seed=seed).limit(k).collect()).squeeze()\n",
        "\n",
        "    converged = False\n",
        "    while not converged:\n",
        "\n",
        "      print(\"\\nCurrent centroids:\\n\", centroids)\n",
        "\n",
        "      # Broadcast centroids to workers\n",
        "      centroids_bc = sc.broadcast(centroids)\n",
        "\n",
        "      #  Euclidean distance\n",
        "      def dist(a, b, axis=1):\n",
        "            return np.sqrt(np.sum((a - b)**2, axis=axis))\n",
        "\n",
        "      # Assign each data point to closest centroid\n",
        "      def assign_cluster(point):\n",
        "            return int(np.argmin(dist(centroids_bc.value, point)))\n",
        "\n",
        "      closest = F.udf(assign_cluster, IntegerType())\n",
        "      df_closest = df.withColumn('closest', closest('features'))\n",
        "\n",
        "      # Compute new centroids\n",
        "      new_centroids_df = df_closest.groupBy(\"closest\") \\\n",
        "        .agg(Summarizer.mean(F.col(\"features\")).alias('new_centroids'))\n",
        "\n",
        "      new_centroids_rows = sorted(new_centroids_df.collect(),key=lambda row: row['closest'])\n",
        "      new_centroids = np.array(\n",
        "        [r[1] for r in new_centroids_rows]\n",
        "      ).squeeze()\n",
        "\n",
        "      print('new centroids:\\n',new_centroids)\n",
        "\n",
        "      # Check for convergence\n",
        "      diff = dist(new_centroids,centroids, axis=None)\n",
        "      print('diff:',diff)\n",
        "      if diff < threshold:\n",
        "        converged=True\n",
        "      else:\n",
        "        centroids = new_centroids\n",
        "\n",
        "    final_df = df_closest.select(\"features\", \"closest\").withColumnRenamed(\"closest\", \"cluster\")\n",
        "    return centroids, final_df"
      ],
      "metadata": {
        "id": "XH4baeHTZk1d"
      },
      "execution_count": 63,
      "outputs": []
    },
    {
      "cell_type": "code",
      "source": [
        "# final_centroids, clustered_df_1 = kmeans(\n",
        "#     df=X_df_1,\n",
        "#     k=3,\n",
        "#     sample_fraction=0.1,\n",
        "#     threshold=0.01,\n",
        "#     seed=42\n",
        "# )"
      ],
      "metadata": {
        "collapsed": true,
        "id": "cEsQqYKyMrPy"
      },
      "execution_count": 64,
      "outputs": []
    },
    {
      "cell_type": "code",
      "source": [
        "final_centroids, clustered_df_2partitions = kmeans(\n",
        "    df=X_df_2,\n",
        "    k=3,\n",
        "    sample_fraction=0.1,\n",
        "    threshold=0.01,\n",
        "    seed=42\n",
        ")"
      ],
      "metadata": {
        "colab": {
          "base_uri": "https://localhost:8080/"
        },
        "collapsed": true,
        "id": "UZ1gvv5tbE42",
        "outputId": "a84cc24b-3ff9-4d88-9338-3aa769653288"
      },
      "execution_count": 65,
      "outputs": [
        {
          "output_type": "stream",
          "name": "stdout",
          "text": [
            "\n",
            "Current centroids:\n",
            " [[-23.23792024  13.48738579 -25.18877297   6.26173255 -17.34518817\n",
            "   -4.53498915 -17.10049248  15.37463003  -3.84556677  -8.5117667\n",
            "    5.13854732  -7.22001986   0.61579329  -7.3272216   -0.03863207\n",
            "   -6.33151509 -12.68885763  -4.84738161   1.02053588   1.63078748\n",
            "    1.76970813  -1.69197331  -1.04567292   0.1433865    1.61157707\n",
            "   -0.22157564   1.48123261   0.4381248 ]\n",
            " [-16.91746827   9.66990017 -23.73644341  11.82499023  -9.83054823\n",
            "   -2.51482887 -17.29065667   1.82040787  -6.26490349 -12.91663611\n",
            "    9.5671103  -13.71706738   0.89954071 -13.27296506  -0.40226004\n",
            "   -7.75409406 -11.64460321  -4.74130271   0.58462597   0.9967451\n",
            "   -2.33611096   0.97275473   1.24186581  -1.05108625   0.03800908\n",
            "    0.67231707   2.10847085  -1.42124325]\n",
            " [-16.52650657   8.5849718  -18.64985319   9.50559352 -13.79381853\n",
            "   -2.8324043  -16.7016943    7.5173439   -8.50705864 -14.11018444\n",
            "    5.29923635 -10.83400648   1.67112025  -9.37385858   0.36080564\n",
            "   -9.89924654 -19.23629237  -8.39855199   3.10173537  -1.51492344\n",
            "    1.19073869  -1.12767001  -2.35857877   0.67346133  -1.41369967\n",
            "   -0.46276236  -2.01857525  -1.04280417]]\n",
            "new centroids:\n",
            " [[-2.34220825e+01  1.35789240e+01 -2.53388205e+01  6.26657826e+00\n",
            "  -1.74656988e+01 -4.54763927e+00 -1.71888129e+01  1.54956869e+01\n",
            "  -3.83842281e+00 -8.49072662e+00  5.10428446e+00 -7.17071143e+00\n",
            "   6.36661677e-01 -7.25614221e+00 -4.20659945e-02 -6.29784525e+00\n",
            "  -1.26438852e+01 -4.84199941e+00  1.00912686e+00  1.63302583e+00\n",
            "   1.77104918e+00 -1.70634649e+00 -1.05197990e+00  1.44052919e-01\n",
            "   1.62802571e+00 -2.20928481e-01  1.47523574e+00  4.36134478e-01]\n",
            " [-3.29052485e+00  3.16685802e+00 -5.97641166e+00  4.42163364e+00\n",
            "  -1.50477010e+00 -1.01701437e+00 -4.41339670e+00 -1.56281590e+00\n",
            "  -2.16247961e+00 -4.75811572e+00  3.39367952e+00 -5.17467525e+00\n",
            "  -2.51552892e-01 -6.27765664e+00 -3.04351798e-01 -2.54523189e+00\n",
            "  -3.52087040e+00 -9.61259634e-01  5.66325075e-02  5.01977520e-01\n",
            "   1.02497772e-01  1.15671544e-01  2.29513613e-01 -1.95476839e-01\n",
            "  -1.46532228e-02  7.53394823e-02  6.24367658e-02  6.83952892e-02]\n",
            " [-5.55954167e+00  3.36693132e+00 -7.24104990e+00  4.56787789e+00\n",
            "  -4.69362567e+00 -1.69575302e+00 -6.65985471e+00  2.50702776e+00\n",
            "  -3.14469425e+00 -7.09049887e+00  4.19717333e+00 -7.84400979e+00\n",
            "   7.93426775e-02 -7.54031170e+00  2.18159109e-01 -6.49960950e+00\n",
            "  -1.11771188e+01 -4.20946155e+00  1.56091558e+00  1.01364092e-01\n",
            "   1.15461844e+00  2.20459990e-01 -3.92668891e-01  8.74986973e-02\n",
            "  -1.23300177e-01  1.78348217e-02  8.72990069e-02 -2.50612679e-02]]\n",
            "diff: 43.973567864865565\n",
            "\n",
            "Current centroids:\n",
            " [[-2.34220825e+01  1.35789240e+01 -2.53388205e+01  6.26657826e+00\n",
            "  -1.74656988e+01 -4.54763927e+00 -1.71888129e+01  1.54956869e+01\n",
            "  -3.83842281e+00 -8.49072662e+00  5.10428446e+00 -7.17071143e+00\n",
            "   6.36661677e-01 -7.25614221e+00 -4.20659945e-02 -6.29784525e+00\n",
            "  -1.26438852e+01 -4.84199941e+00  1.00912686e+00  1.63302583e+00\n",
            "   1.77104918e+00 -1.70634649e+00 -1.05197990e+00  1.44052919e-01\n",
            "   1.62802571e+00 -2.20928481e-01  1.47523574e+00  4.36134478e-01]\n",
            " [-3.29052485e+00  3.16685802e+00 -5.97641166e+00  4.42163364e+00\n",
            "  -1.50477010e+00 -1.01701437e+00 -4.41339670e+00 -1.56281590e+00\n",
            "  -2.16247961e+00 -4.75811572e+00  3.39367952e+00 -5.17467525e+00\n",
            "  -2.51552892e-01 -6.27765664e+00 -3.04351798e-01 -2.54523189e+00\n",
            "  -3.52087040e+00 -9.61259634e-01  5.66325075e-02  5.01977520e-01\n",
            "   1.02497772e-01  1.15671544e-01  2.29513613e-01 -1.95476839e-01\n",
            "  -1.46532228e-02  7.53394823e-02  6.24367658e-02  6.83952892e-02]\n",
            " [-5.55954167e+00  3.36693132e+00 -7.24104990e+00  4.56787789e+00\n",
            "  -4.69362567e+00 -1.69575302e+00 -6.65985471e+00  2.50702776e+00\n",
            "  -3.14469425e+00 -7.09049887e+00  4.19717333e+00 -7.84400979e+00\n",
            "   7.93426775e-02 -7.54031170e+00  2.18159109e-01 -6.49960950e+00\n",
            "  -1.11771188e+01 -4.20946155e+00  1.56091558e+00  1.01364092e-01\n",
            "   1.15461844e+00  2.20459990e-01 -3.92668891e-01  8.74986973e-02\n",
            "  -1.23300177e-01  1.78348217e-02  8.72990069e-02 -2.50612679e-02]]\n",
            "new centroids:\n",
            " [[-2.02523515e+01  1.23296418e+01 -2.28317567e+01  8.36923992e+00\n",
            "  -1.49767021e+01 -2.42800568e+00 -2.07778653e+01  2.60810271e+00\n",
            "  -6.53471846e+00 -1.40715886e+01  5.59981237e+00 -1.06123696e+01\n",
            "   2.61381176e-01 -7.73039477e+00 -8.96247407e-01 -7.92416785e+00\n",
            "  -1.48840986e+01 -5.98348627e+00  1.00099425e+00  1.74894950e+00\n",
            "  -2.19073917e+00  7.37536275e-01  2.49061946e-01  1.87538810e-01\n",
            "   1.94034364e-01 -1.74755013e-01 -1.33934616e+00 -4.08353366e-01]\n",
            " [-1.39256858e+00  1.55120868e+00 -3.25979761e+00  3.12033343e+00\n",
            "  -2.93034679e-01 -8.67833420e-01 -1.76828379e+00 -7.48234569e-01\n",
            "  -1.22612034e+00 -2.85150805e+00  2.42697939e+00 -3.55279694e+00\n",
            "  -3.14205053e-01 -5.03116995e+00 -4.03464026e-02 -1.82194782e+00\n",
            "  -2.35346094e+00 -5.30514320e-01  1.19555097e-01  1.74615948e-01\n",
            "   7.94678980e-01 -8.34675864e-02 -2.24127933e-03 -1.23282865e-01\n",
            "   1.78949885e-03  4.68195009e-02  2.13048287e-01  1.27075160e-01]\n",
            " [-6.49967757e+00  4.87782738e+00 -9.82533641e+00  6.46011209e+00\n",
            "  -5.35120110e+00 -2.32389446e+00 -8.69560809e+00  3.13132066e+00\n",
            "  -4.22241375e+00 -9.29850401e+00  6.40622845e+00 -1.11833714e+01\n",
            "   3.07441271e-01 -1.10279304e+01  1.22918467e-01 -8.37789601e+00\n",
            "  -1.39940602e+01 -5.12366874e+00  1.84450040e+00  3.28740403e-01\n",
            "   1.29448827e+00  1.84652326e-01 -3.12065041e-01 -1.05086089e-01\n",
            "  -5.43671601e-02  1.46500763e-01  6.63364078e-01  7.77062671e-02]]\n",
            "diff: 20.235585266116605\n",
            "\n",
            "Current centroids:\n",
            " [[-2.02523515e+01  1.23296418e+01 -2.28317567e+01  8.36923992e+00\n",
            "  -1.49767021e+01 -2.42800568e+00 -2.07778653e+01  2.60810271e+00\n",
            "  -6.53471846e+00 -1.40715886e+01  5.59981237e+00 -1.06123696e+01\n",
            "   2.61381176e-01 -7.73039477e+00 -8.96247407e-01 -7.92416785e+00\n",
            "  -1.48840986e+01 -5.98348627e+00  1.00099425e+00  1.74894950e+00\n",
            "  -2.19073917e+00  7.37536275e-01  2.49061946e-01  1.87538810e-01\n",
            "   1.94034364e-01 -1.74755013e-01 -1.33934616e+00 -4.08353366e-01]\n",
            " [-1.39256858e+00  1.55120868e+00 -3.25979761e+00  3.12033343e+00\n",
            "  -2.93034679e-01 -8.67833420e-01 -1.76828379e+00 -7.48234569e-01\n",
            "  -1.22612034e+00 -2.85150805e+00  2.42697939e+00 -3.55279694e+00\n",
            "  -3.14205053e-01 -5.03116995e+00 -4.03464026e-02 -1.82194782e+00\n",
            "  -2.35346094e+00 -5.30514320e-01  1.19555097e-01  1.74615948e-01\n",
            "   7.94678980e-01 -8.34675864e-02 -2.24127933e-03 -1.23282865e-01\n",
            "   1.78949885e-03  4.68195009e-02  2.13048287e-01  1.27075160e-01]\n",
            " [-6.49967757e+00  4.87782738e+00 -9.82533641e+00  6.46011209e+00\n",
            "  -5.35120110e+00 -2.32389446e+00 -8.69560809e+00  3.13132066e+00\n",
            "  -4.22241375e+00 -9.29850401e+00  6.40622845e+00 -1.11833714e+01\n",
            "   3.07441271e-01 -1.10279304e+01  1.22918467e-01 -8.37789601e+00\n",
            "  -1.39940602e+01 -5.12366874e+00  1.84450040e+00  3.28740403e-01\n",
            "   1.29448827e+00  1.84652326e-01 -3.12065041e-01 -1.05086089e-01\n",
            "  -5.43671601e-02  1.46500763e-01  6.63364078e-01  7.77062671e-02]]\n",
            "new centroids:\n",
            " [[-1.96816026e+01  1.19697051e+01 -2.26664632e+01  8.57709492e+00\n",
            "  -1.43462759e+01 -2.46611308e+00 -2.03458995e+01  2.26063656e+00\n",
            "  -6.48209195e+00 -1.41121427e+01  5.97216402e+00 -1.10653420e+01\n",
            "   2.27087286e-01 -8.29745709e+00 -9.15934254e-01 -7.99156484e+00\n",
            "  -1.46982210e+01 -5.88978413e+00  9.38398998e-01  1.70398863e+00\n",
            "  -2.21121745e+00  7.78238794e-01  2.57385329e-01  1.09702478e-01\n",
            "   1.50866649e-01 -1.27321080e-01 -1.09880045e+00 -4.49544897e-01]\n",
            " [-1.33306176e+00  1.42802629e+00 -3.22025982e+00  3.16743679e+00\n",
            "  -3.21872968e-01 -9.43388182e-01 -1.63499120e+00 -2.13488790e-01\n",
            "  -1.29183452e+00 -2.88925327e+00  2.45602552e+00 -3.64643312e+00\n",
            "  -2.96427274e-01 -5.05953844e+00 -1.89824916e-02 -1.91485916e+00\n",
            "  -2.57679674e+00 -6.22822119e-01  1.63307567e-01  2.07837769e-01\n",
            "   4.75858521e-01  4.40692234e-02 -8.38424224e-02 -1.16894692e-01\n",
            "  -1.21219356e-02  4.90423763e-02  2.14650137e-01  1.10800074e-01]\n",
            " [-6.72472250e+00  5.37122471e+00 -9.88463601e+00  6.34555794e+00\n",
            "  -5.55697025e+00 -2.17216839e+00 -9.31127333e+00  1.99486006e+00\n",
            "  -4.16716390e+00 -9.42301026e+00  6.44638087e+00 -1.12548686e+01\n",
            "   3.27153275e-01 -1.12496756e+01  1.37452788e-01 -8.60734635e+00\n",
            "  -1.43194647e+01 -5.22367645e+00  1.93559558e+00  1.85446383e-01\n",
            "   2.56601286e+00 -2.59470421e-01 -1.12687061e-01 -8.95121899e-02\n",
            "  -3.55227529e-05  1.34559536e-01  6.49989905e-01  1.79700324e-01]]\n",
            "diff: 2.6001354808326833\n",
            "\n",
            "Current centroids:\n",
            " [[-1.96816026e+01  1.19697051e+01 -2.26664632e+01  8.57709492e+00\n",
            "  -1.43462759e+01 -2.46611308e+00 -2.03458995e+01  2.26063656e+00\n",
            "  -6.48209195e+00 -1.41121427e+01  5.97216402e+00 -1.10653420e+01\n",
            "   2.27087286e-01 -8.29745709e+00 -9.15934254e-01 -7.99156484e+00\n",
            "  -1.46982210e+01 -5.88978413e+00  9.38398998e-01  1.70398863e+00\n",
            "  -2.21121745e+00  7.78238794e-01  2.57385329e-01  1.09702478e-01\n",
            "   1.50866649e-01 -1.27321080e-01 -1.09880045e+00 -4.49544897e-01]\n",
            " [-1.33306176e+00  1.42802629e+00 -3.22025982e+00  3.16743679e+00\n",
            "  -3.21872968e-01 -9.43388182e-01 -1.63499120e+00 -2.13488790e-01\n",
            "  -1.29183452e+00 -2.88925327e+00  2.45602552e+00 -3.64643312e+00\n",
            "  -2.96427274e-01 -5.05953844e+00 -1.89824916e-02 -1.91485916e+00\n",
            "  -2.57679674e+00 -6.22822119e-01  1.63307567e-01  2.07837769e-01\n",
            "   4.75858521e-01  4.40692234e-02 -8.38424224e-02 -1.16894692e-01\n",
            "  -1.21219356e-02  4.90423763e-02  2.14650137e-01  1.10800074e-01]\n",
            " [-6.72472250e+00  5.37122471e+00 -9.88463601e+00  6.34555794e+00\n",
            "  -5.55697025e+00 -2.17216839e+00 -9.31127333e+00  1.99486006e+00\n",
            "  -4.16716390e+00 -9.42301026e+00  6.44638087e+00 -1.12548686e+01\n",
            "   3.27153275e-01 -1.12496756e+01  1.37452788e-01 -8.60734635e+00\n",
            "  -1.43194647e+01 -5.22367645e+00  1.93559558e+00  1.85446383e-01\n",
            "   2.56601286e+00 -2.59470421e-01 -1.12687061e-01 -8.95121899e-02\n",
            "  -3.55227529e-05  1.34559536e-01  6.49989905e-01  1.79700324e-01]]\n",
            "new centroids:\n",
            " [[-1.96816026e+01  1.19697051e+01 -2.26664632e+01  8.57709492e+00\n",
            "  -1.43462759e+01 -2.46611308e+00 -2.03458995e+01  2.26063656e+00\n",
            "  -6.48209195e+00 -1.41121427e+01  5.97216402e+00 -1.10653420e+01\n",
            "   2.27087286e-01 -8.29745709e+00 -9.15934254e-01 -7.99156484e+00\n",
            "  -1.46982210e+01 -5.88978413e+00  9.38398998e-01  1.70398863e+00\n",
            "  -2.21121745e+00  7.78238794e-01  2.57385329e-01  1.09702478e-01\n",
            "   1.50866649e-01 -1.27321080e-01 -1.09880045e+00 -4.49544897e-01]\n",
            " [-1.35683129e+00  1.44268925e+00 -3.23925340e+00  3.17249272e+00\n",
            "  -3.52617151e-01 -9.39910369e-01 -1.66303586e+00 -1.97714875e-01\n",
            "  -1.30519618e+00 -2.91402048e+00  2.46453566e+00 -3.66741240e+00\n",
            "  -2.96996221e-01 -5.06961149e+00 -1.78371678e-02 -1.95266139e+00\n",
            "  -2.63936205e+00 -6.51775711e-01  1.78825147e-01  2.03800579e-01\n",
            "   4.87750713e-01  4.54148763e-02 -8.07673486e-02 -1.18713661e-01\n",
            "  -1.25823611e-02  4.69482793e-02  2.14962386e-01  1.08247764e-01]\n",
            " [-6.79965135e+00  5.43508081e+00 -1.00118253e+01  6.41953236e+00\n",
            "  -5.60421025e+00 -2.21885255e+00 -9.43724700e+00  2.00545114e+00\n",
            "  -4.20484094e+00 -9.52724960e+00  6.53206443e+00 -1.14024214e+01\n",
            "   3.46863643e-01 -1.13930078e+01  1.38110075e-01 -8.67273284e+00\n",
            "  -1.44467164e+01 -5.25875533e+00  1.93458101e+00  1.98244705e-01\n",
            "   2.58614754e+00 -2.72622084e-01 -1.23746797e-01 -8.26752621e-02\n",
            "   1.84236277e-03  1.43973234e-01  6.61388843e-01  1.90164449e-01]]\n",
            "diff: 0.38494300397155157\n",
            "\n",
            "Current centroids:\n",
            " [[-1.96816026e+01  1.19697051e+01 -2.26664632e+01  8.57709492e+00\n",
            "  -1.43462759e+01 -2.46611308e+00 -2.03458995e+01  2.26063656e+00\n",
            "  -6.48209195e+00 -1.41121427e+01  5.97216402e+00 -1.10653420e+01\n",
            "   2.27087286e-01 -8.29745709e+00 -9.15934254e-01 -7.99156484e+00\n",
            "  -1.46982210e+01 -5.88978413e+00  9.38398998e-01  1.70398863e+00\n",
            "  -2.21121745e+00  7.78238794e-01  2.57385329e-01  1.09702478e-01\n",
            "   1.50866649e-01 -1.27321080e-01 -1.09880045e+00 -4.49544897e-01]\n",
            " [-1.35683129e+00  1.44268925e+00 -3.23925340e+00  3.17249272e+00\n",
            "  -3.52617151e-01 -9.39910369e-01 -1.66303586e+00 -1.97714875e-01\n",
            "  -1.30519618e+00 -2.91402048e+00  2.46453566e+00 -3.66741240e+00\n",
            "  -2.96996221e-01 -5.06961149e+00 -1.78371678e-02 -1.95266139e+00\n",
            "  -2.63936205e+00 -6.51775711e-01  1.78825147e-01  2.03800579e-01\n",
            "   4.87750713e-01  4.54148763e-02 -8.07673486e-02 -1.18713661e-01\n",
            "  -1.25823611e-02  4.69482793e-02  2.14962386e-01  1.08247764e-01]\n",
            " [-6.79965135e+00  5.43508081e+00 -1.00118253e+01  6.41953236e+00\n",
            "  -5.60421025e+00 -2.21885255e+00 -9.43724700e+00  2.00545114e+00\n",
            "  -4.20484094e+00 -9.52724960e+00  6.53206443e+00 -1.14024214e+01\n",
            "   3.46863643e-01 -1.13930078e+01  1.38110075e-01 -8.67273284e+00\n",
            "  -1.44467164e+01 -5.25875533e+00  1.93458101e+00  1.98244705e-01\n",
            "   2.58614754e+00 -2.72622084e-01 -1.23746797e-01 -8.26752621e-02\n",
            "   1.84236277e-03  1.43973234e-01  6.61388843e-01  1.90164449e-01]]\n",
            "new centroids:\n",
            " [[-1.96816026e+01  1.19697051e+01 -2.26664632e+01  8.57709492e+00\n",
            "  -1.43462759e+01 -2.46611308e+00 -2.03458995e+01  2.26063656e+00\n",
            "  -6.48209195e+00 -1.41121427e+01  5.97216402e+00 -1.10653420e+01\n",
            "   2.27087286e-01 -8.29745709e+00 -9.15934254e-01 -7.99156484e+00\n",
            "  -1.46982210e+01 -5.88978413e+00  9.38398998e-01  1.70398863e+00\n",
            "  -2.21121745e+00  7.78238794e-01  2.57385329e-01  1.09702478e-01\n",
            "   1.50866649e-01 -1.27321080e-01 -1.09880045e+00 -4.49544897e-01]\n",
            " [-1.35683129e+00  1.44268925e+00 -3.23925340e+00  3.17249272e+00\n",
            "  -3.52617151e-01 -9.39910369e-01 -1.66303586e+00 -1.97714875e-01\n",
            "  -1.30519618e+00 -2.91402048e+00  2.46453566e+00 -3.66741240e+00\n",
            "  -2.96996221e-01 -5.06961149e+00 -1.78371678e-02 -1.95266139e+00\n",
            "  -2.63936205e+00 -6.51775711e-01  1.78825147e-01  2.03800579e-01\n",
            "   4.87750713e-01  4.54148763e-02 -8.07673486e-02 -1.18713661e-01\n",
            "  -1.25823611e-02  4.69482793e-02  2.14962386e-01  1.08247764e-01]\n",
            " [-6.79965135e+00  5.43508081e+00 -1.00118253e+01  6.41953236e+00\n",
            "  -5.60421025e+00 -2.21885255e+00 -9.43724700e+00  2.00545114e+00\n",
            "  -4.20484094e+00 -9.52724960e+00  6.53206443e+00 -1.14024214e+01\n",
            "   3.46863643e-01 -1.13930078e+01  1.38110075e-01 -8.67273284e+00\n",
            "  -1.44467164e+01 -5.25875533e+00  1.93458101e+00  1.98244705e-01\n",
            "   2.58614754e+00 -2.72622084e-01 -1.23746797e-01 -8.26752621e-02\n",
            "   1.84236277e-03  1.43973234e-01  6.61388843e-01  1.90164449e-01]]\n",
            "diff: 0.0\n"
          ]
        }
      ]
    },
    {
      "cell_type": "code",
      "source": [
        "clustered_df_2partitions.show(truncate=False)"
      ],
      "metadata": {
        "colab": {
          "base_uri": "https://localhost:8080/"
        },
        "id": "Co_IdHr_fY6W",
        "outputId": "e749b185-a487-46cf-d2d3-cfea9f393a3e",
        "collapsed": true
      },
      "execution_count": 66,
      "outputs": [
        {
          "output_type": "stream",
          "name": "stdout",
          "text": [
            "+---------------------------------------------------------------------------------------------------------------------------------------------------------------------------------------------------------------------------------------------------------------------------------------------------------------------------------------------------------------------------------------------------------------------------------------------------------------------------------------------------------------------+-------+\n",
            "|features                                                                                                                                                                                                                                                                                                                                                                                                                                                                                                             |cluster|\n",
            "+---------------------------------------------------------------------------------------------------------------------------------------------------------------------------------------------------------------------------------------------------------------------------------------------------------------------------------------------------------------------------------------------------------------------------------------------------------------------------------------------------------------------+-------+\n",
            "|[-29.8763655139763,16.4345245512223,-30.5586968214292,6.50586178736296,-21.6656542956569,-4.94035632949796,-20.0813910746494,19.5877726234404,-3.59149104711596,-7.80059820772759,3.94783971729026,-5.4879114860488,1.36994034924206,-4.82955244300835,-0.134412095441135,-5.12116240451142,-11.1181904509172,-4.65995586983801,0.608930080519071,1.72477883837961,1.81295397464878,-2.23225158753151,-1.41280344282556,0.178731069561437,2.15604185816706,-0.20938462411377,1.25564890085966,0.364530452975509]     |0      |\n",
            "|[-29.2003285905744,16.1557014298057,-30.0137124857248,6.47673117996833,-21.2258096535165,-4.90299739658728,-19.791248405247,19.1683273897301,-3.61724178604255,-7.87012194292549,4.06625507293473,-5.66149242261771,1.29295014454242,-5.07984568135779,-0.126522740416921,-5.24447151974264,-11.2749725851252,-4.67843652929376,0.650807370688892,1.71586182428358,1.8093709332884,-2.17581520342142,-1.3651041075509,0.174286359566544,2.10386807204715,-0.209943999130567,1.27868097084218,0.372392714338541]      |0      |\n",
            "|[-28.5242675938406,15.8769229879536,-29.4687320925264,6.44759140152748,-20.7860000418837,-4.86561341755669,-19.5010840750712,18.7488719520883,-3.64298981925263,-7.93964241937325,4.18467368942509,-5.83507521523889,1.21595964527928,-5.33014378246253,-0.118631138153322,-5.36777527618834,-11.4317569116986,-4.69692444373293,0.69268841200477,1.7068890619925,1.80576978392608,-2.11937616760819,-1.31744962200248,0.169845630469178,2.05168733506275,-0.210502000459411,1.30173396497076,0.380246181418509]     |0      |\n",
            "|[-25.9424344479142,14.6019980426299,-27.3686502881266,6.37839460769688,-19.1040334039646,-4.68480620428185,-18.2613929340355,17.0525663121462,-3.74260500983864,-8.233721369876,4.6648362538527,-6.52566786025865,0.92375858946558,-6.32597461208273,-0.0702237027595964,-5.83836021908828,-12.0616957125199,-4.77334851403019,0.852969608454831,1.66730429040185,1.78431598423494,-1.91775921336107,-1.23578743924962,0.161104731783341,1.82037804128869,-0.2193590586868,1.38878576213598,0.406809649908512]       |0      |\n",
            "|[-25.2663550194138,14.3232538097233,-26.8236729135114,6.34924780743689,-18.664250613469,-4.64740304866878,-17.9712120192706,16.6331030618556,-3.76835097141465,-8.303239351259,4.78325736701241,-6.6992520739678,0.846767864669643,-6.57627643636006,-0.0623303798952992,-5.96165987257541,-12.2184817176797,-4.79184198325342,0.894853521838799,1.65828884445902,1.78070097046593,-1.86131814726914,-1.18816729293127,0.156667050663465,1.76819198236914,-0.219916008250323,1.41185477685432,0.414656383638367]     |0      |\n",
            "|[-24.5902447690465,14.0445667815106,-26.2787005866145,6.32008926518927,-18.2245126736673,-4.60996782569686,-17.6810033715155,16.2136267471409,-3.79409346877414,-8.37275316035861,4.90168265513877,-6.87283866404082,0.769776762734501,-6.82658448658054,-0.0544341798176028,-6.08495266503583,-12.375270529796,-4.81034474126699,0.936742237936608,1.64920202229571,1.77706277243531,-1.80487368611576,-1.14060456917063,0.152234466415679,1.71599702403257,-0.22047119903665,1.43495058143483,0.422491857762666]   |0      |\n",
            "|[-23.9141008948243,13.7659421584186,-25.7337337663194,6.2909179135006,-17.7848236618953,-4.57249762015164,-17.3907644695894,15.7941361803271,-3.81983218698836,-8.44226241787632,5.02011249777419,-7.0464278465108,0.692785249374773,-7.07689932873899,-0.0465348409616521,-6.20823797273981,-12.5320624040465,-4.82885763250639,0.978636193358608,1.64003733516462,1.77339928248294,-1.74842552125898,-1.09310448820022,0.147807442391992,1.66379235724108,-0.221024471156944,1.45807561131952,0.43031504868091]    |0      |\n",
            "|[-23.237920244511,13.4873857909274,-25.1887729688701,6.26173255148578,-17.3451881651558,-4.53498915241687,-17.1004924771637,15.3746300252798,-3.84556677176243,-8.51176669710133,5.1385473219039,-7.22001986441493,0.615793286019405,-7.3272215995796,-0.0386320690669864,-6.33151509399145,-12.6888576275064,-4.84738160696153,1.02053587929144,1.63078748322503,1.76970812949114,-1.69197330547661,-1.04567292278161,0.143386499863412,1.61157707182701,-0.221575644736264,1.48123260638065,0.438124804842523]     |0      |\n",
            "|[-22.5616992591298,13.2089042844176,-24.6438187771226,6.23253182330679,-16.905611362323,-4.49743871970001,-16.8101841919321,14.9551067734604,-3.87129682308601,-8.58126551626339,5.25698760960799,-7.39361499215009,0.538800829120431,-7.57755201800709,-0.030725531904052,-6.45478323655342,-12.8456565242928,-4.86591773720169,1.06244185030067,1.62144422472126,1.76598663639159,-1.6355166467436,-0.998316503452087,0.138972227361725,1.55935014018173,-0.22212451669,1.5044246600224,0.445919826109776]         |0      |\n",
            "|[-21.8854339051741,12.9305051249875,-24.098871851647,6.20331419234722,-16.4660991227874,-4.45984212550286,-16.519835984614,14.5355647151916,-3.89702188761405,-8.6507583293562,5.3754339072439,-7.56721354069937,0.461807829323489,-7.82789139878016,-0.0228148529460228,-6.57804150255676,-13.0024594617382,-4.88446723880536,1.10435473489394,1.6119982189969,1.76223176917351,-1.57905510076487,-0.951042744820554,0.13456529188962,1.50711039768212,-0.222670856855594,1.52765527810284,0.453698638993223]       |0      |\n",
            "|[-20.9069081014654,9.84315322329519,-19.947726046163,6.15578864849515,-15.142013159868,-2.239565648142,-21.2344631540976,1.15179506554623,-8.73967037069304,-18.2711681738888,4.67734929657245,-9.58356643737056,1.03516582361622,-8.19969002891841,-0.32651888245129,-8.37643882097816,-18.4854603221489,-7.58997395860914,1.1266403652792,0.396654845079575,-1.97719619445615,0.652931885295435,-0.519776859411322,0.541701730134149,-0.0538607606750096,0.112670774311131,-3.76537100922261,-1.07123831223447]    |0      |\n",
            "|[-19.8563223334433,12.0958932259299,-22.4640827464876,6.11554110191771,-15.1480215209615,-4.34672408349599,-15.6485074722661,13.2768048056341,-3.97416161954102,-8.85919405880884,5.73081553744459,-8.08803351213651,0.230824969324902,-8.57897327333454,9.46636693186079E-4,-6.94774606726094,-13.4728970076501,-4.94021082886802,1.23014255193802,1.58292955492187,1.75072984045421,-1.40963570908141,-0.809809278333882,0.121396659905885,1.35030007077468,-0.224291873525585,1.59762136835254,0.476919818025438] |0      |\n",
            "|[-19.1798264145873,11.8179219897853,-21.9191735807843,6.0862356342864,-14.7088447898427,-4.30888760741835,-15.3579518065836,12.8571650181242,-3.99986076978115,-8.9286556608751,5.8492930661792,-8.26164983722413,0.153829148314596,-8.82935922766409,0.00887883882572681,-7.0709530089254,-13.6297209427085,-4.9588298158479,1.27209136353211,1.572949614923,1.74680154191934,-1.35314876613352,-0.762965072731218,0.117027851903743,1.29799375563032,-0.224825057048525,1.62105238966989,0.4846144027264]          |0      |\n",
            "|[-19.1397328634111,9.28684735978866,-20.134992104854,7.81867331002574,-15.6522076772063,-1.66834770694329,-21.3404780994803,0.6418997011947,-8.55011032700099,-16.6496281595399,4.81815244707108,-9.44531478308794,1.31705629332341,-7.24346097400378,0.830910291033798,-9.53325705039319,-18.7506411474674,-8.09264877340557,3.32675827497024,0.42720343146936,-2.18269194560955,0.520543072366642,-0.760556415188733,0.662766638397236,-0.948454306235033,0.121795925829793,-3.3818429293561,-1.25652362136258]    |0      |\n",
            "|[-17.4677100117887,10.1148157246654,-24.2021422329158,11.8054692105913,-10.1980458075926,-2.5799380080012,-17.6567879964837,2.25690247596699,-6.24214930949065,-12.8306571996417,9.44266526535108,-13.5474858999444,0.960728558325579,-13.0287170264518,-0.426674498701321,-7.65266166506753,-11.4853277896478,-4.72136957553102,0.550519004149565,1.00151850195952,-2.32802441621057,0.940830319350178,1.29681706144136,-1.05510390359967,0.11179202805362,0.679694612203418,2.09354057112569,-1.42549145377361]    |0      |\n",
            "|[-17.2751911945397,10.8196653713117,-20.3638859739149,6.04661174671427,-13.4650333517322,-4.16664724489873,-14.4094479851747,11.5807967244857,-4.07385571204177,-9.15336803834587,6.21088301172371,-8.77857203246194,-0.0613674966661798,-9.57466229922106,0.0492885399107771,-7.41848727872681,-14.1027718764864,-5.01642333521081,1.39031436050276,1.54497046707519,1.7298040916597,-1.20809608165502,-0.726839224163999,0.112539673508366,1.11919347248491,-0.233188990129274,1.68406299250578,0.503739738280361] |0      |\n",
            "|[-16.9174682656955,9.66990017304097,-23.7364434105216,11.8249902296814,-9.83054822917941,-2.51482887310345,-17.2906566748216,1.8204078670595,-6.26490348784789,-12.9166361091709,9.56711029521397,-13.7170673789468,0.899540705915631,-13.2729650621928,-0.402260044266312,-7.75409405936683,-11.6446032058862,-4.74130270962407,0.58462597267458,0.996745095162688,-2.33611095619483,0.972754726208974,1.24186581168063,-1.05108624820763,0.0380090796054737,0.672317065099677,2.10847085205046,-1.42124325273233]  |0      |\n",
            "|[-16.5986647432584,10.5417508026636,-19.8189818085279,6.0172946473619,-13.0259010501237,-4.12877900260013,-14.1188648469369,11.1611439952369,-4.09955143059712,-9.22282550730978,6.32936467621872,-8.95219071159749,-0.138363691274054,-9.82505442102721,0.0572235922374037,-7.54168742379503,-14.2595985921417,-5.03505152375192,1.43226792970939,1.53491982113512,1.72585282658181,-1.15160577552799,-0.680051901875725,0.108175914514646,1.06687834149611,-0.233720431391328,1.70752055210726,0.51142316911239]   |0      |\n",
            "|[-16.5265065691231,8.58497179585822,-18.6498531851945,9.50559351508723,-13.7938185270957,-2.83240429939747,-16.701694296045,7.51734390370987,-8.50705863675898,-14.1101844415457,5.29923634963938,-10.8340064814734,1.67112025332681,-9.37385858364976,0.360805641631617,-9.89924654080666,-19.2362923697613,-8.39855199494575,3.10173536885404,-1.51492343527852,1.19073869481428,-1.12767000902061,-2.3585787697881,0.673461328987237,-1.4136996745882,-0.46276236139933,-2.01857524875161,-1.04280416970881]      |0      |\n",
            "|[-16.3679230107968,9.22369194937548,-23.2706305232856,11.8447765860728,-9.46203714585895,-2.45044437416398,-16.9251520440555,1.38420847895884,-6.28773594816964,-13.0027093010697,9.69146098207319,-13.8865951585248,0.838361375836116,-13.5170724083842,-0.377910607106286,-7.85568149439455,-11.8038151924676,-4.76102594206856,0.618624412799665,0.993584598744375,-2.34367359429797,1.00460241382139,1.18821215709493,-1.04718376839983,-0.0355727659827232,0.664899774367373,2.12279575423083,-1.41674061492574]|0      |\n",
            "+---------------------------------------------------------------------------------------------------------------------------------------------------------------------------------------------------------------------------------------------------------------------------------------------------------------------------------------------------------------------------------------------------------------------------------------------------------------------------------------------------------------------+-------+\n",
            "only showing top 20 rows\n",
            "\n"
          ]
        }
      ]
    },
    {
      "cell_type": "markdown",
      "source": [
        "KNN"
      ],
      "metadata": {
        "id": "kirqImUbBYpK"
      }
    },
    {
      "cell_type": "code",
      "source": [
        "from pyspark.ml.linalg import Vectors\n",
        "from sklearn.neighbors import NearestNeighbors\n",
        "import builtins\n",
        "\n",
        "# count_synthetic_data\n",
        "# minority_class_with_cluster\n",
        "clustered_class1_df = clustered_df_2partitions.withColumn(\"class\", F.lit(1))\n",
        "cluster_counts = clustered_df_2partitions.groupBy(\"cluster\").count().rdd.collectAsMap()\n",
        "\n",
        "total_minority = builtins.sum(cluster_counts.values())\n",
        "max_majority   = train_df.filter(F.col(\"class\") == 0).count()\n",
        "print(\"total_minority =\", total_minority)\n",
        "print(\"max_majority =\", max_majority)"
      ],
      "metadata": {
        "colab": {
          "base_uri": "https://localhost:8080/"
        },
        "id": "lIF6b-JJaZDE",
        "outputId": "a09ee316-bc0a-438e-abd0-3cc4d28f0f0f"
      },
      "execution_count": 67,
      "outputs": [
        {
          "output_type": "stream",
          "name": "stdout",
          "text": [
            "total_minority = 350\n",
            "max_majority = 198901\n"
          ]
        }
      ]
    },
    {
      "cell_type": "code",
      "source": [
        "# compute target\n",
        "target_counts = {\n",
        "    c: int(builtins.round(cnt / total_minority * max_majority))\n",
        "    for c, cnt in cluster_counts.items()\n",
        "}\n",
        "target_counts"
      ],
      "metadata": {
        "colab": {
          "base_uri": "https://localhost:8080/"
        },
        "id": "X8x-CPMhgY_v",
        "outputId": "e14aa4fb-5de3-4a83-ff94-d127dda6101b"
      },
      "execution_count": 68,
      "outputs": [
        {
          "output_type": "execute_result",
          "data": {
            "text/plain": [
              "{1: 132411, 2: 39780, 0: 26710}"
            ]
          },
          "metadata": {},
          "execution_count": 68
        }
      ]
    },
    {
      "cell_type": "code",
      "source": [
        "need_counts = {\n",
        "    c: max(target_counts[c] - cluster_counts[c], 0)\n",
        "    for c in cluster_counts\n",
        "}\n",
        "need_counts"
      ],
      "metadata": {
        "colab": {
          "base_uri": "https://localhost:8080/"
        },
        "id": "vKdWX-CPgSrl",
        "outputId": "319709c5-d6e2-4be3-8a2b-5cfde5090c25"
      },
      "execution_count": 69,
      "outputs": [
        {
          "output_type": "execute_result",
          "data": {
            "text/plain": [
              "{1: 132178, 2: 39710, 0: 26663}"
            ]
          },
          "metadata": {},
          "execution_count": 69
        }
      ]
    },
    {
      "cell_type": "code",
      "source": [
        "import random\n",
        "\n",
        "# create synthetic data\n",
        "def create_synthetic_data(data, list_neighbors, num_samples):\n",
        "\n",
        "    synthetic_data = []\n",
        "\n",
        "    for _ in range(num_samples):\n",
        "      index = np.random.randint(0, data.shape[0])\n",
        "      data_point = data[index]\n",
        "\n",
        "      neighbor_index = random.choice([i for i in list_neighbors[index] if i != index])\n",
        "      neighbor = data[neighbor_index]\n",
        "\n",
        "      random_float = random.random()\n",
        "      new_synthetic_data_point =  data_point + random_float * (neighbor -  data_point)\n",
        "      synthetic_data.append(new_synthetic_data_point)\n",
        "\n",
        "    return np.array(synthetic_data)"
      ],
      "metadata": {
        "id": "i-fks3aY6Uoa"
      },
      "execution_count": 70,
      "outputs": []
    },
    {
      "cell_type": "code",
      "source": [
        "from sklearn.neighbors import NearestNeighbors\n",
        "from pyspark.sql import Row\n",
        "from pyspark.ml.linalg import Vectors\n",
        "\n",
        "# generate synthetic\n",
        "synthetic_data_df = []\n",
        "for c, need in need_counts.items():\n",
        "    if need <= 0:\n",
        "        continue\n",
        "    arr = np.array(\n",
        "        clustered_df_2partitions\n",
        "        .filter(F.col(\"cluster\") == c)\n",
        "        .select(\"features\")\n",
        "        .rdd\n",
        "        .map(lambda row: row.features.toArray())\n",
        "        .collect()\n",
        "    )\n",
        "\n",
        "    knn = NearestNeighbors(n_neighbors=5)\n",
        "    knn.fit(arr)\n",
        "    _, indices = knn.kneighbors(arr)\n",
        "\n",
        "    synth = create_synthetic_data(arr, indices, need)\n",
        "    sdf = spark.createDataFrame(\n",
        "        [(Vectors.dense(v), int(c), 1) for v in synth],\n",
        "        [\"features\", \"cluster\", \"class\"]\n",
        "    )\n",
        "    synthetic_data_df.append(sdf)\n",
        "    print(sdf.show(5))"
      ],
      "metadata": {
        "id": "k75so9c1huBO",
        "colab": {
          "base_uri": "https://localhost:8080/"
        },
        "outputId": "57138491-ab77-4d02-cb47-0c7741889004"
      },
      "execution_count": 71,
      "outputs": [
        {
          "output_type": "stream",
          "name": "stdout",
          "text": [
            "+--------------------+-------+-----+\n",
            "|            features|cluster|class|\n",
            "+--------------------+-------+-----+\n",
            "|[-0.8960348663346...|      1|    1|\n",
            "|[-5.7056059364894...|      1|    1|\n",
            "|[1.35894502952261...|      1|    1|\n",
            "|[0.02706275834135...|      1|    1|\n",
            "|[-3.1754138171678...|      1|    1|\n",
            "+--------------------+-------+-----+\n",
            "only showing top 5 rows\n",
            "\n",
            "None\n",
            "+--------------------+-------+-----+\n",
            "|            features|cluster|class|\n",
            "+--------------------+-------+-----+\n",
            "|[-4.2286850048313...|      2|    1|\n",
            "|[-4.6006999442901...|      2|    1|\n",
            "|[-5.2722095714337...|      2|    1|\n",
            "|[-11.977417456294...|      2|    1|\n",
            "|[-13.040401699504...|      2|    1|\n",
            "+--------------------+-------+-----+\n",
            "only showing top 5 rows\n",
            "\n",
            "None\n",
            "+--------------------+-------+-----+\n",
            "|            features|cluster|class|\n",
            "+--------------------+-------+-----+\n",
            "|[-12.867002125013...|      0|    1|\n",
            "|[-17.881249407430...|      0|    1|\n",
            "|[-17.226640691476...|      0|    1|\n",
            "|[-17.361145588687...|      0|    1|\n",
            "|[-12.399576867395...|      0|    1|\n",
            "+--------------------+-------+-----+\n",
            "only showing top 5 rows\n",
            "\n",
            "None\n"
          ]
        }
      ]
    },
    {
      "cell_type": "code",
      "source": [
        "# 4) Union all synthetic\n",
        "if synthetic_data_df:\n",
        "    all_synthetic = synthetic_data_df[0]\n",
        "    for sdf in synthetic_data_df[1:]:\n",
        "        all_synthetic = all_synthetic.union(sdf)\n",
        "else:\n",
        "    all_synthetic = spark.createDataFrame([], clustered_class1_df.schema)"
      ],
      "metadata": {
        "id": "Qmj-RVzwlX0t"
      },
      "execution_count": 72,
      "outputs": []
    },
    {
      "cell_type": "code",
      "source": [
        "# majority vector\n",
        "majority_vecs = assembler \\\n",
        "    .transform(train_df.filter(F.col(\"class\") == 0)) \\\n",
        "    .select(\"features\") \\\n",
        "    .withColumn(\"class\", F.lit(0))\n",
        "minority_vecs  = clustered_class1_df.select(\"features\", \"class\")\n",
        "synthetic_vecs = all_synthetic.select(\"features\", \"class\")\n",
        "\n",
        "# union train data\n",
        "balanced_train_df = majority_vecs \\\n",
        "    .union(minority_vecs) \\\n",
        "    .union(synthetic_vecs)\n",
        "\n",
        "balanced_train_df.show(5)\n",
        "balanced_train_df.groupBy(\"class\").count().show()\n"
      ],
      "metadata": {
        "colab": {
          "base_uri": "https://localhost:8080/"
        },
        "id": "HqPk-d_mdzfk",
        "outputId": "e7781fd4-98c7-4e3b-df67-a45a39fd7abc"
      },
      "execution_count": 73,
      "outputs": [
        {
          "output_type": "stream",
          "name": "stdout",
          "text": [
            "+--------------------+-----+\n",
            "|            features|class|\n",
            "+--------------------+-----+\n",
            "|[-56.407509631329...|    0|\n",
            "|[-36.802319908874...|    0|\n",
            "|[-36.510583170797...|    0|\n",
            "|[-34.591213470459...|    0|\n",
            "|[-34.148233651352...|    0|\n",
            "+--------------------+-----+\n",
            "only showing top 5 rows\n",
            "\n",
            "+-----+------+\n",
            "|class| count|\n",
            "+-----+------+\n",
            "|    0|198901|\n",
            "|    1|198901|\n",
            "+-----+------+\n",
            "\n"
          ]
        }
      ]
    },
    {
      "cell_type": "code",
      "source": [
        "end_time = time.time()\n",
        "elapsed_time = end_time - start_time\n",
        "print(f\"Oversampling runtime: {elapsed_time:.2f} seconds\")"
      ],
      "metadata": {
        "colab": {
          "base_uri": "https://localhost:8080/"
        },
        "id": "KgMgA_obUDTp",
        "outputId": "baa14dad-d6ad-49ef-89a1-85c4605ce37e"
      },
      "execution_count": 74,
      "outputs": [
        {
          "output_type": "stream",
          "name": "stdout",
          "text": [
            "Oversampling runtime: 38.97 seconds\n"
          ]
        }
      ]
    },
    {
      "cell_type": "code",
      "source": [
        "assembler = VectorAssembler(inputCols=feature_cols, outputCol=\"features\")\n",
        "test_df = assembler \\\n",
        "    .transform(test_df)\\\n",
        "    .select(\"features\", \"Class\")\n",
        "test_df = test_df.withColumnRenamed(\"Class\", \"class\")"
      ],
      "metadata": {
        "id": "wit1ChKaSNS8"
      },
      "execution_count": 75,
      "outputs": []
    },
    {
      "cell_type": "code",
      "source": [
        "print('balanced_train_df_partition',balanced_train_df.rdd.getNumPartitions())\n",
        "print('test_df_partition', test_df.rdd.getNumPartitions())"
      ],
      "metadata": {
        "id": "5c1DozaFhuMt",
        "colab": {
          "base_uri": "https://localhost:8080/"
        },
        "outputId": "d9c98eff-5680-408a-e171-99ea02e90106"
      },
      "execution_count": 76,
      "outputs": [
        {
          "output_type": "stream",
          "name": "stdout",
          "text": [
            "balanced_train_df_partition 10\n",
            "test_df_partition 2\n"
          ]
        }
      ]
    },
    {
      "cell_type": "markdown",
      "source": [
        "Change Number of Partitions"
      ],
      "metadata": {
        "id": "kC0y7eVzJovI"
      }
    },
    {
      "cell_type": "code",
      "source": [
        "# train_rdd = balanced_train_df.rdd.repartition(3).cache()\n",
        "# test_rdd = test_df.rdd.repartition(2).cache()\n",
        "\n",
        "# print('training - #partitions:',train_rdd.getNumPartitions())\n",
        "# print('testing - #partitions:', test_rdd.getNumPartitions())"
      ],
      "metadata": {
        "id": "VO8IsUjPJB_h"
      },
      "execution_count": 77,
      "outputs": []
    },
    {
      "cell_type": "markdown",
      "source": [
        "Decision tree"
      ],
      "metadata": {
        "id": "SujtsKCuH5if"
      }
    },
    {
      "cell_type": "code",
      "source": [
        "from pyspark.ml.classification import DecisionTreeClassifier\n",
        "from pyspark.ml.evaluation import MulticlassClassificationEvaluator\n",
        "\n",
        "train_df = balanced_train_df\n",
        "test_df = test_df\n",
        "\n",
        "dt = DecisionTreeClassifier(labelCol=\"class\", featuresCol=\"features\", maxDepth=5)\n",
        "model = dt.fit(train_df)\n",
        "predictions = model.transform(test_df)\n",
        "evaluator = MulticlassClassificationEvaluator(\n",
        "    labelCol=\"class\",\n",
        "    predictionCol=\"prediction\",\n",
        "    metricName=\"accuracy\"\n",
        ")\n",
        "accuracy = evaluator.evaluate(predictions)\n",
        "print(f\"Accuracy: {accuracy * 100:.2f}%\")\n",
        "predictions.select(\"features\", \"class\", \"prediction\").show(5)\n"
      ],
      "metadata": {
        "colab": {
          "base_uri": "https://localhost:8080/"
        },
        "id": "mmuOGHqBH4Sp",
        "outputId": "8cd63065-76dc-4eac-b3d4-1f9f6d1802b0"
      },
      "execution_count": 78,
      "outputs": [
        {
          "output_type": "stream",
          "name": "stdout",
          "text": [
            "Accuracy: 93.81%\n",
            "+--------------------+-----+----------+\n",
            "|            features|class|prediction|\n",
            "+--------------------+-----+----------+\n",
            "|[-33.404081610779...|    0|       1.0|\n",
            "|[-33.017174430628...|    0|       1.0|\n",
            "|[-32.962809811697...|    0|       1.0|\n",
            "|[-32.273469750819...|    0|       1.0|\n",
            "|[-30.552380043581...|    1|       1.0|\n",
            "+--------------------+-----+----------+\n",
            "only showing top 5 rows\n",
            "\n"
          ]
        }
      ]
    },
    {
      "cell_type": "markdown",
      "source": [
        "F1"
      ],
      "metadata": {
        "id": "s8_TAx9cTcYw"
      }
    },
    {
      "cell_type": "code",
      "source": [
        "evaluator = MulticlassClassificationEvaluator(\n",
        "    labelCol=\"class\",\n",
        "    predictionCol=\"prediction\",\n",
        "    metricName=\"f1\"\n",
        ")\n",
        "\n",
        "f1_score = evaluator.evaluate(predictions)\n",
        "print(f\"F1 Score: {f1_score:.2f}\")\n"
      ],
      "metadata": {
        "id": "Mk_C6yQyhuQF",
        "colab": {
          "base_uri": "https://localhost:8080/"
        },
        "outputId": "7bd4565a-8a2b-4dfd-a523-e64a0c63054b"
      },
      "execution_count": 79,
      "outputs": [
        {
          "output_type": "stream",
          "name": "stdout",
          "text": [
            "F1 Score: 0.97\n"
          ]
        }
      ]
    },
    {
      "cell_type": "code",
      "source": [],
      "metadata": {
        "id": "GBAjBo4LTit8"
      },
      "execution_count": 79,
      "outputs": []
    }
  ]
}